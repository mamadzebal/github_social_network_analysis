{
 "cells": [
  {
   "cell_type": "markdown",
   "metadata": {
    "id": "dC5f5cIBm1_4"
   },
   "source": [
    "# Task\n",
    "Convert this data into a graph\n",
    "\n",
    "Here is all the data you need:\n",
    "\"musae_git_edges.csv\"\n",
    "\"musae_git_features.json\"\n",
    "\"musae_git_target.csv\""
   ]
  },
  {
   "cell_type": "markdown",
   "metadata": {
    "id": "NrVp-oDrm2ze"
   },
   "source": [
    "## Data loading\n",
    "\n",
    "### Subtask:\n",
    "Load the provided CSV and JSON files into pandas DataFrames.\n"
   ]
  },
  {
   "cell_type": "markdown",
   "metadata": {
    "id": "aoYPbTTtm3iT"
   },
   "source": [
    "**Reasoning**:\n",
    "Load the provided CSV and JSON files into pandas DataFrames and print the first few rows of each to verify.\n",
    "\n"
   ]
  },
  {
   "cell_type": "code",
   "execution_count": 1,
   "metadata": {
    "colab": {
     "base_uri": "https://localhost:8080/",
     "height": 633
    },
    "id": "JmWfz5lAm336",
    "outputId": "387c0ff2-7272-4bda-ff9f-0b92985d9c9c"
   },
   "outputs": [
    {
     "data": {
      "text/html": [
       "<div>\n",
       "<style scoped>\n",
       "    .dataframe tbody tr th:only-of-type {\n",
       "        vertical-align: middle;\n",
       "    }\n",
       "\n",
       "    .dataframe tbody tr th {\n",
       "        vertical-align: top;\n",
       "    }\n",
       "\n",
       "    .dataframe thead th {\n",
       "        text-align: right;\n",
       "    }\n",
       "</style>\n",
       "<table border=\"1\" class=\"dataframe\">\n",
       "  <thead>\n",
       "    <tr style=\"text-align: right;\">\n",
       "      <th></th>\n",
       "      <th>id_1</th>\n",
       "      <th>id_2</th>\n",
       "    </tr>\n",
       "  </thead>\n",
       "  <tbody>\n",
       "    <tr>\n",
       "      <th>0</th>\n",
       "      <td>0</td>\n",
       "      <td>23977</td>\n",
       "    </tr>\n",
       "    <tr>\n",
       "      <th>1</th>\n",
       "      <td>1</td>\n",
       "      <td>34526</td>\n",
       "    </tr>\n",
       "    <tr>\n",
       "      <th>2</th>\n",
       "      <td>1</td>\n",
       "      <td>2370</td>\n",
       "    </tr>\n",
       "    <tr>\n",
       "      <th>3</th>\n",
       "      <td>1</td>\n",
       "      <td>14683</td>\n",
       "    </tr>\n",
       "    <tr>\n",
       "      <th>4</th>\n",
       "      <td>1</td>\n",
       "      <td>29982</td>\n",
       "    </tr>\n",
       "  </tbody>\n",
       "</table>\n",
       "</div>"
      ],
      "text/plain": [
       "   id_1   id_2\n",
       "0     0  23977\n",
       "1     1  34526\n",
       "2     1   2370\n",
       "3     1  14683\n",
       "4     1  29982"
      ]
     },
     "metadata": {},
     "output_type": "display_data"
    },
    {
     "data": {
      "text/html": [
       "<div>\n",
       "<style scoped>\n",
       "    .dataframe tbody tr th:only-of-type {\n",
       "        vertical-align: middle;\n",
       "    }\n",
       "\n",
       "    .dataframe tbody tr th {\n",
       "        vertical-align: top;\n",
       "    }\n",
       "\n",
       "    .dataframe thead th {\n",
       "        text-align: right;\n",
       "    }\n",
       "</style>\n",
       "<table border=\"1\" class=\"dataframe\">\n",
       "  <thead>\n",
       "    <tr style=\"text-align: right;\">\n",
       "      <th></th>\n",
       "      <th>0</th>\n",
       "      <th>1</th>\n",
       "      <th>2</th>\n",
       "      <th>3</th>\n",
       "      <th>4</th>\n",
       "      <th>5</th>\n",
       "      <th>6</th>\n",
       "      <th>7</th>\n",
       "      <th>8</th>\n",
       "      <th>9</th>\n",
       "      <th>...</th>\n",
       "      <th>32</th>\n",
       "      <th>33</th>\n",
       "      <th>34</th>\n",
       "      <th>35</th>\n",
       "      <th>36</th>\n",
       "      <th>37</th>\n",
       "      <th>38</th>\n",
       "      <th>39</th>\n",
       "      <th>40</th>\n",
       "      <th>41</th>\n",
       "    </tr>\n",
       "  </thead>\n",
       "  <tbody>\n",
       "    <tr>\n",
       "      <th>0</th>\n",
       "      <td>1574</td>\n",
       "      <td>3773</td>\n",
       "      <td>3571</td>\n",
       "      <td>2672</td>\n",
       "      <td>2478</td>\n",
       "      <td>2534</td>\n",
       "      <td>3129</td>\n",
       "      <td>3077</td>\n",
       "      <td>1171.0</td>\n",
       "      <td>2045.0</td>\n",
       "      <td>...</td>\n",
       "      <td>NaN</td>\n",
       "      <td>NaN</td>\n",
       "      <td>NaN</td>\n",
       "      <td>NaN</td>\n",
       "      <td>NaN</td>\n",
       "      <td>NaN</td>\n",
       "      <td>NaN</td>\n",
       "      <td>NaN</td>\n",
       "      <td>NaN</td>\n",
       "      <td>NaN</td>\n",
       "    </tr>\n",
       "    <tr>\n",
       "      <th>1</th>\n",
       "      <td>1193</td>\n",
       "      <td>376</td>\n",
       "      <td>73</td>\n",
       "      <td>290</td>\n",
       "      <td>3129</td>\n",
       "      <td>1852</td>\n",
       "      <td>3077</td>\n",
       "      <td>1171</td>\n",
       "      <td>1022.0</td>\n",
       "      <td>2045.0</td>\n",
       "      <td>...</td>\n",
       "      <td>NaN</td>\n",
       "      <td>NaN</td>\n",
       "      <td>NaN</td>\n",
       "      <td>NaN</td>\n",
       "      <td>NaN</td>\n",
       "      <td>NaN</td>\n",
       "      <td>NaN</td>\n",
       "      <td>NaN</td>\n",
       "      <td>NaN</td>\n",
       "      <td>NaN</td>\n",
       "    </tr>\n",
       "    <tr>\n",
       "      <th>2</th>\n",
       "      <td>1574</td>\n",
       "      <td>3773</td>\n",
       "      <td>925</td>\n",
       "      <td>1728</td>\n",
       "      <td>2815</td>\n",
       "      <td>2963</td>\n",
       "      <td>3077</td>\n",
       "      <td>364</td>\n",
       "      <td>1171.0</td>\n",
       "      <td>536.0</td>\n",
       "      <td>...</td>\n",
       "      <td>NaN</td>\n",
       "      <td>NaN</td>\n",
       "      <td>NaN</td>\n",
       "      <td>NaN</td>\n",
       "      <td>NaN</td>\n",
       "      <td>NaN</td>\n",
       "      <td>NaN</td>\n",
       "      <td>NaN</td>\n",
       "      <td>NaN</td>\n",
       "      <td>NaN</td>\n",
       "    </tr>\n",
       "    <tr>\n",
       "      <th>3</th>\n",
       "      <td>3964</td>\n",
       "      <td>3773</td>\n",
       "      <td>4003</td>\n",
       "      <td>928</td>\n",
       "      <td>1852</td>\n",
       "      <td>3077</td>\n",
       "      <td>364</td>\n",
       "      <td>1022</td>\n",
       "      <td>3763.0</td>\n",
       "      <td>2045.0</td>\n",
       "      <td>...</td>\n",
       "      <td>NaN</td>\n",
       "      <td>NaN</td>\n",
       "      <td>NaN</td>\n",
       "      <td>NaN</td>\n",
       "      <td>NaN</td>\n",
       "      <td>NaN</td>\n",
       "      <td>NaN</td>\n",
       "      <td>NaN</td>\n",
       "      <td>NaN</td>\n",
       "      <td>NaN</td>\n",
       "    </tr>\n",
       "    <tr>\n",
       "      <th>4</th>\n",
       "      <td>1929</td>\n",
       "      <td>3773</td>\n",
       "      <td>1793</td>\n",
       "      <td>3511</td>\n",
       "      <td>1290</td>\n",
       "      <td>3129</td>\n",
       "      <td>3077</td>\n",
       "      <td>364</td>\n",
       "      <td>1171.0</td>\n",
       "      <td>1022.0</td>\n",
       "      <td>...</td>\n",
       "      <td>NaN</td>\n",
       "      <td>NaN</td>\n",
       "      <td>NaN</td>\n",
       "      <td>NaN</td>\n",
       "      <td>NaN</td>\n",
       "      <td>NaN</td>\n",
       "      <td>NaN</td>\n",
       "      <td>NaN</td>\n",
       "      <td>NaN</td>\n",
       "      <td>NaN</td>\n",
       "    </tr>\n",
       "  </tbody>\n",
       "</table>\n",
       "<p>5 rows × 42 columns</p>\n",
       "</div>"
      ],
      "text/plain": [
       "     0     1     2     3     4     5     6     7       8       9   ...  32  \\\n",
       "0  1574  3773  3571  2672  2478  2534  3129  3077  1171.0  2045.0  ... NaN   \n",
       "1  1193   376    73   290  3129  1852  3077  1171  1022.0  2045.0  ... NaN   \n",
       "2  1574  3773   925  1728  2815  2963  3077   364  1171.0   536.0  ... NaN   \n",
       "3  3964  3773  4003   928  1852  3077   364  1022  3763.0  2045.0  ... NaN   \n",
       "4  1929  3773  1793  3511  1290  3129  3077   364  1171.0  1022.0  ... NaN   \n",
       "\n",
       "   33  34  35  36  37  38  39  40  41  \n",
       "0 NaN NaN NaN NaN NaN NaN NaN NaN NaN  \n",
       "1 NaN NaN NaN NaN NaN NaN NaN NaN NaN  \n",
       "2 NaN NaN NaN NaN NaN NaN NaN NaN NaN  \n",
       "3 NaN NaN NaN NaN NaN NaN NaN NaN NaN  \n",
       "4 NaN NaN NaN NaN NaN NaN NaN NaN NaN  \n",
       "\n",
       "[5 rows x 42 columns]"
      ]
     },
     "metadata": {},
     "output_type": "display_data"
    },
    {
     "data": {
      "text/html": [
       "<div>\n",
       "<style scoped>\n",
       "    .dataframe tbody tr th:only-of-type {\n",
       "        vertical-align: middle;\n",
       "    }\n",
       "\n",
       "    .dataframe tbody tr th {\n",
       "        vertical-align: top;\n",
       "    }\n",
       "\n",
       "    .dataframe thead th {\n",
       "        text-align: right;\n",
       "    }\n",
       "</style>\n",
       "<table border=\"1\" class=\"dataframe\">\n",
       "  <thead>\n",
       "    <tr style=\"text-align: right;\">\n",
       "      <th></th>\n",
       "      <th>id</th>\n",
       "      <th>name</th>\n",
       "      <th>ml_target</th>\n",
       "    </tr>\n",
       "  </thead>\n",
       "  <tbody>\n",
       "    <tr>\n",
       "      <th>0</th>\n",
       "      <td>0</td>\n",
       "      <td>Eiryyy</td>\n",
       "      <td>0</td>\n",
       "    </tr>\n",
       "    <tr>\n",
       "      <th>1</th>\n",
       "      <td>1</td>\n",
       "      <td>shawflying</td>\n",
       "      <td>0</td>\n",
       "    </tr>\n",
       "    <tr>\n",
       "      <th>2</th>\n",
       "      <td>2</td>\n",
       "      <td>JpMCarrilho</td>\n",
       "      <td>1</td>\n",
       "    </tr>\n",
       "    <tr>\n",
       "      <th>3</th>\n",
       "      <td>3</td>\n",
       "      <td>SuhwanCha</td>\n",
       "      <td>0</td>\n",
       "    </tr>\n",
       "    <tr>\n",
       "      <th>4</th>\n",
       "      <td>4</td>\n",
       "      <td>sunilangadi2</td>\n",
       "      <td>1</td>\n",
       "    </tr>\n",
       "  </tbody>\n",
       "</table>\n",
       "</div>"
      ],
      "text/plain": [
       "   id          name  ml_target\n",
       "0   0        Eiryyy          0\n",
       "1   1    shawflying          0\n",
       "2   2   JpMCarrilho          1\n",
       "3   3     SuhwanCha          0\n",
       "4   4  sunilangadi2          1"
      ]
     },
     "metadata": {},
     "output_type": "display_data"
    }
   ],
   "source": [
    "import pandas as pd\n",
    "import json\n",
    "\n",
    "# Load musae_git_edges.csv\n",
    "try:\n",
    "    df_edges = pd.read_csv('musae_git_edges.csv')\n",
    "    display(df_edges.head())\n",
    "except FileNotFoundError:\n",
    "    print(\"Error: musae_git_edges.csv not found.\")\n",
    "    df_edges = None\n",
    "\n",
    "# Load musae_git_features.json\n",
    "try:\n",
    "    with open('musae_git_features.json', 'r') as f:\n",
    "        data = json.load(f)\n",
    "    df_features = pd.DataFrame.from_dict(data, orient='index')\n",
    "    display(df_features.head())\n",
    "except FileNotFoundError:\n",
    "    print(\"Error: musae_git_features.json not found.\")\n",
    "    df_features = None\n",
    "except json.JSONDecodeError:\n",
    "    print(\"Error: Invalid JSON format in musae_git_features.json\")\n",
    "    df_features = None\n",
    "\n",
    "# Load musae_git_target.csv\n",
    "try:\n",
    "    df_target = pd.read_csv('musae_git_target.csv')\n",
    "    display(df_target.head())\n",
    "except FileNotFoundError:\n",
    "    print(\"Error: musae_git_target.csv not found.\")\n",
    "    df_target = None"
   ]
  },
  {
   "cell_type": "markdown",
   "metadata": {
    "id": "LrP5WFTQm7p6"
   },
   "source": [
    "## Data exploration\n",
    "\n",
    "### Subtask:\n",
    "Explore the loaded dataframes (`df_edges`, `df_features`, and `df_target`) to understand their structure, identify key columns, and determine the relationships between them.\n"
   ]
  },
  {
   "cell_type": "markdown",
   "metadata": {
    "id": "IKLy294nm8dG"
   },
   "source": [
    "**Reasoning**:\n",
    "Inspect the dataframes to understand their structure, identify key columns, and determine relationships between them.  This includes examining shapes, data types, descriptive statistics, and unique values in potential identifier columns.\n",
    "\n"
   ]
  },
  {
   "cell_type": "code",
   "execution_count": 5,
   "metadata": {
    "colab": {
     "base_uri": "https://localhost:8080/",
     "height": 1000
    },
    "id": "4jNmPYH_m8wX",
    "outputId": "bc121227-e28c-484b-f3ef-2bf65062e587"
   },
   "outputs": [
    {
     "name": "stdout",
     "output_type": "stream",
     "text": [
      "df_edges shape: (289003, 2)\n",
      "df_edges info:\n",
      "<class 'pandas.core.frame.DataFrame'>\n",
      "RangeIndex: 289003 entries, 0 to 289002\n",
      "Data columns (total 2 columns):\n",
      " #   Column  Non-Null Count   Dtype\n",
      "---  ------  --------------   -----\n",
      " 0   id_1    289003 non-null  int64\n",
      " 1   id_2    289003 non-null  int64\n",
      "dtypes: int64(2)\n",
      "memory usage: 4.4 MB\n"
     ]
    },
    {
     "data": {
      "text/plain": [
       "None"
      ]
     },
     "metadata": {},
     "output_type": "display_data"
    },
    {
     "name": "stdout",
     "output_type": "stream",
     "text": [
      "\n",
      "df_features shape: (37700, 42)\n",
      "df_features info:\n",
      "<class 'pandas.core.frame.DataFrame'>\n",
      "Index: 37700 entries, 0 to 37699\n",
      "Data columns (total 42 columns):\n",
      " #   Column  Non-Null Count  Dtype  \n",
      "---  ------  --------------  -----  \n",
      " 0   0       37700 non-null  int64  \n",
      " 1   1       37700 non-null  int64  \n",
      " 2   2       37700 non-null  int64  \n",
      " 3   3       37700 non-null  int64  \n",
      " 4   4       37700 non-null  int64  \n",
      " 5   5       37700 non-null  int64  \n",
      " 6   6       37700 non-null  int64  \n",
      " 7   7       37700 non-null  int64  \n",
      " 8   8       37698 non-null  float64\n",
      " 9   9       37686 non-null  float64\n",
      " 10  10      37628 non-null  float64\n",
      " 11  11      37437 non-null  float64\n",
      " 12  12      36861 non-null  float64\n",
      " 13  13      35520 non-null  float64\n",
      " 14  14      33063 non-null  float64\n",
      " 15  15      29394 non-null  float64\n",
      " 16  16      24912 non-null  float64\n",
      " 17  17      20306 non-null  float64\n",
      " 18  18      15898 non-null  float64\n",
      " 19  19      12129 non-null  float64\n",
      " 20  20      9012 non-null   float64\n",
      " 21  21      6545 non-null   float64\n",
      " 22  22      4761 non-null   float64\n",
      " 23  23      3397 non-null   float64\n",
      " 24  24      2339 non-null   float64\n",
      " 25  25      1539 non-null   float64\n",
      " 26  26      1003 non-null   float64\n",
      " 27  27      643 non-null    float64\n",
      " 28  28      398 non-null    float64\n",
      " 29  29      256 non-null    float64\n",
      " 30  30      154 non-null    float64\n",
      " 31  31      91 non-null     float64\n",
      " 32  32      49 non-null     float64\n",
      " 33  33      25 non-null     float64\n",
      " 34  34      12 non-null     float64\n",
      " 35  35      6 non-null      float64\n",
      " 36  36      5 non-null      float64\n",
      " 37  37      3 non-null      float64\n",
      " 38  38      1 non-null      float64\n",
      " 39  39      1 non-null      float64\n",
      " 40  40      1 non-null      float64\n",
      " 41  41      1 non-null      float64\n",
      "dtypes: float64(34), int64(8)\n",
      "memory usage: 12.4+ MB\n"
     ]
    },
    {
     "data": {
      "text/plain": [
       "None"
      ]
     },
     "metadata": {},
     "output_type": "display_data"
    },
    {
     "name": "stdout",
     "output_type": "stream",
     "text": [
      "\n",
      "df_target shape: (37700, 3)\n",
      "df_target info:\n",
      "<class 'pandas.core.frame.DataFrame'>\n",
      "RangeIndex: 37700 entries, 0 to 37699\n",
      "Data columns (total 3 columns):\n",
      " #   Column     Non-Null Count  Dtype \n",
      "---  ------     --------------  ----- \n",
      " 0   id         37700 non-null  int64 \n",
      " 1   name       37700 non-null  object\n",
      " 2   ml_target  37700 non-null  int64 \n",
      "dtypes: int64(2), object(1)\n",
      "memory usage: 883.7+ KB\n"
     ]
    },
    {
     "data": {
      "text/plain": [
       "None"
      ]
     },
     "metadata": {},
     "output_type": "display_data"
    },
    {
     "name": "stdout",
     "output_type": "stream",
     "text": [
      "\n",
      "df_edges unique values in id_1: 30855\n",
      "df_edges unique values in id_2: 30195\n",
      "\n",
      "df_features index (potential node IDs): 37700\n",
      "First 5 values of the df_features index: Index(['0', '1', '2', '3', '4'], dtype='object')\n",
      "\n",
      "df_target unique values in id: 37700\n",
      "First 5 values of the id column in df_target: [0 1 2 3 4]\n",
      "\n",
      "Missing values in df_edges: 0\n",
      "Missing values in df_features: 893026\n",
      "Missing values in df_target: 0\n",
      "\n",
      "First 5 rows of df_edges:\n"
     ]
    },
    {
     "data": {
      "text/html": [
       "<div>\n",
       "<style scoped>\n",
       "    .dataframe tbody tr th:only-of-type {\n",
       "        vertical-align: middle;\n",
       "    }\n",
       "\n",
       "    .dataframe tbody tr th {\n",
       "        vertical-align: top;\n",
       "    }\n",
       "\n",
       "    .dataframe thead th {\n",
       "        text-align: right;\n",
       "    }\n",
       "</style>\n",
       "<table border=\"1\" class=\"dataframe\">\n",
       "  <thead>\n",
       "    <tr style=\"text-align: right;\">\n",
       "      <th></th>\n",
       "      <th>id_1</th>\n",
       "      <th>id_2</th>\n",
       "    </tr>\n",
       "  </thead>\n",
       "  <tbody>\n",
       "    <tr>\n",
       "      <th>0</th>\n",
       "      <td>0</td>\n",
       "      <td>23977</td>\n",
       "    </tr>\n",
       "    <tr>\n",
       "      <th>1</th>\n",
       "      <td>1</td>\n",
       "      <td>34526</td>\n",
       "    </tr>\n",
       "    <tr>\n",
       "      <th>2</th>\n",
       "      <td>1</td>\n",
       "      <td>2370</td>\n",
       "    </tr>\n",
       "    <tr>\n",
       "      <th>3</th>\n",
       "      <td>1</td>\n",
       "      <td>14683</td>\n",
       "    </tr>\n",
       "    <tr>\n",
       "      <th>4</th>\n",
       "      <td>1</td>\n",
       "      <td>29982</td>\n",
       "    </tr>\n",
       "  </tbody>\n",
       "</table>\n",
       "</div>"
      ],
      "text/plain": [
       "   id_1   id_2\n",
       "0     0  23977\n",
       "1     1  34526\n",
       "2     1   2370\n",
       "3     1  14683\n",
       "4     1  29982"
      ]
     },
     "metadata": {},
     "output_type": "display_data"
    },
    {
     "name": "stdout",
     "output_type": "stream",
     "text": [
      "\n",
      "First 5 rows of df_features:\n"
     ]
    },
    {
     "data": {
      "text/html": [
       "<div>\n",
       "<style scoped>\n",
       "    .dataframe tbody tr th:only-of-type {\n",
       "        vertical-align: middle;\n",
       "    }\n",
       "\n",
       "    .dataframe tbody tr th {\n",
       "        vertical-align: top;\n",
       "    }\n",
       "\n",
       "    .dataframe thead th {\n",
       "        text-align: right;\n",
       "    }\n",
       "</style>\n",
       "<table border=\"1\" class=\"dataframe\">\n",
       "  <thead>\n",
       "    <tr style=\"text-align: right;\">\n",
       "      <th></th>\n",
       "      <th>0</th>\n",
       "      <th>1</th>\n",
       "      <th>2</th>\n",
       "      <th>3</th>\n",
       "      <th>4</th>\n",
       "      <th>5</th>\n",
       "      <th>6</th>\n",
       "      <th>7</th>\n",
       "      <th>8</th>\n",
       "      <th>9</th>\n",
       "      <th>...</th>\n",
       "      <th>32</th>\n",
       "      <th>33</th>\n",
       "      <th>34</th>\n",
       "      <th>35</th>\n",
       "      <th>36</th>\n",
       "      <th>37</th>\n",
       "      <th>38</th>\n",
       "      <th>39</th>\n",
       "      <th>40</th>\n",
       "      <th>41</th>\n",
       "    </tr>\n",
       "  </thead>\n",
       "  <tbody>\n",
       "    <tr>\n",
       "      <th>0</th>\n",
       "      <td>1574</td>\n",
       "      <td>3773</td>\n",
       "      <td>3571</td>\n",
       "      <td>2672</td>\n",
       "      <td>2478</td>\n",
       "      <td>2534</td>\n",
       "      <td>3129</td>\n",
       "      <td>3077</td>\n",
       "      <td>1171.0</td>\n",
       "      <td>2045.0</td>\n",
       "      <td>...</td>\n",
       "      <td>NaN</td>\n",
       "      <td>NaN</td>\n",
       "      <td>NaN</td>\n",
       "      <td>NaN</td>\n",
       "      <td>NaN</td>\n",
       "      <td>NaN</td>\n",
       "      <td>NaN</td>\n",
       "      <td>NaN</td>\n",
       "      <td>NaN</td>\n",
       "      <td>NaN</td>\n",
       "    </tr>\n",
       "    <tr>\n",
       "      <th>1</th>\n",
       "      <td>1193</td>\n",
       "      <td>376</td>\n",
       "      <td>73</td>\n",
       "      <td>290</td>\n",
       "      <td>3129</td>\n",
       "      <td>1852</td>\n",
       "      <td>3077</td>\n",
       "      <td>1171</td>\n",
       "      <td>1022.0</td>\n",
       "      <td>2045.0</td>\n",
       "      <td>...</td>\n",
       "      <td>NaN</td>\n",
       "      <td>NaN</td>\n",
       "      <td>NaN</td>\n",
       "      <td>NaN</td>\n",
       "      <td>NaN</td>\n",
       "      <td>NaN</td>\n",
       "      <td>NaN</td>\n",
       "      <td>NaN</td>\n",
       "      <td>NaN</td>\n",
       "      <td>NaN</td>\n",
       "    </tr>\n",
       "    <tr>\n",
       "      <th>2</th>\n",
       "      <td>1574</td>\n",
       "      <td>3773</td>\n",
       "      <td>925</td>\n",
       "      <td>1728</td>\n",
       "      <td>2815</td>\n",
       "      <td>2963</td>\n",
       "      <td>3077</td>\n",
       "      <td>364</td>\n",
       "      <td>1171.0</td>\n",
       "      <td>536.0</td>\n",
       "      <td>...</td>\n",
       "      <td>NaN</td>\n",
       "      <td>NaN</td>\n",
       "      <td>NaN</td>\n",
       "      <td>NaN</td>\n",
       "      <td>NaN</td>\n",
       "      <td>NaN</td>\n",
       "      <td>NaN</td>\n",
       "      <td>NaN</td>\n",
       "      <td>NaN</td>\n",
       "      <td>NaN</td>\n",
       "    </tr>\n",
       "    <tr>\n",
       "      <th>3</th>\n",
       "      <td>3964</td>\n",
       "      <td>3773</td>\n",
       "      <td>4003</td>\n",
       "      <td>928</td>\n",
       "      <td>1852</td>\n",
       "      <td>3077</td>\n",
       "      <td>364</td>\n",
       "      <td>1022</td>\n",
       "      <td>3763.0</td>\n",
       "      <td>2045.0</td>\n",
       "      <td>...</td>\n",
       "      <td>NaN</td>\n",
       "      <td>NaN</td>\n",
       "      <td>NaN</td>\n",
       "      <td>NaN</td>\n",
       "      <td>NaN</td>\n",
       "      <td>NaN</td>\n",
       "      <td>NaN</td>\n",
       "      <td>NaN</td>\n",
       "      <td>NaN</td>\n",
       "      <td>NaN</td>\n",
       "    </tr>\n",
       "    <tr>\n",
       "      <th>4</th>\n",
       "      <td>1929</td>\n",
       "      <td>3773</td>\n",
       "      <td>1793</td>\n",
       "      <td>3511</td>\n",
       "      <td>1290</td>\n",
       "      <td>3129</td>\n",
       "      <td>3077</td>\n",
       "      <td>364</td>\n",
       "      <td>1171.0</td>\n",
       "      <td>1022.0</td>\n",
       "      <td>...</td>\n",
       "      <td>NaN</td>\n",
       "      <td>NaN</td>\n",
       "      <td>NaN</td>\n",
       "      <td>NaN</td>\n",
       "      <td>NaN</td>\n",
       "      <td>NaN</td>\n",
       "      <td>NaN</td>\n",
       "      <td>NaN</td>\n",
       "      <td>NaN</td>\n",
       "      <td>NaN</td>\n",
       "    </tr>\n",
       "  </tbody>\n",
       "</table>\n",
       "<p>5 rows × 42 columns</p>\n",
       "</div>"
      ],
      "text/plain": [
       "     0     1     2     3     4     5     6     7       8       9   ...  32  \\\n",
       "0  1574  3773  3571  2672  2478  2534  3129  3077  1171.0  2045.0  ... NaN   \n",
       "1  1193   376    73   290  3129  1852  3077  1171  1022.0  2045.0  ... NaN   \n",
       "2  1574  3773   925  1728  2815  2963  3077   364  1171.0   536.0  ... NaN   \n",
       "3  3964  3773  4003   928  1852  3077   364  1022  3763.0  2045.0  ... NaN   \n",
       "4  1929  3773  1793  3511  1290  3129  3077   364  1171.0  1022.0  ... NaN   \n",
       "\n",
       "   33  34  35  36  37  38  39  40  41  \n",
       "0 NaN NaN NaN NaN NaN NaN NaN NaN NaN  \n",
       "1 NaN NaN NaN NaN NaN NaN NaN NaN NaN  \n",
       "2 NaN NaN NaN NaN NaN NaN NaN NaN NaN  \n",
       "3 NaN NaN NaN NaN NaN NaN NaN NaN NaN  \n",
       "4 NaN NaN NaN NaN NaN NaN NaN NaN NaN  \n",
       "\n",
       "[5 rows x 42 columns]"
      ]
     },
     "metadata": {},
     "output_type": "display_data"
    },
    {
     "name": "stdout",
     "output_type": "stream",
     "text": [
      "\n",
      "First 5 rows of df_target:\n"
     ]
    },
    {
     "data": {
      "text/html": [
       "<div>\n",
       "<style scoped>\n",
       "    .dataframe tbody tr th:only-of-type {\n",
       "        vertical-align: middle;\n",
       "    }\n",
       "\n",
       "    .dataframe tbody tr th {\n",
       "        vertical-align: top;\n",
       "    }\n",
       "\n",
       "    .dataframe thead th {\n",
       "        text-align: right;\n",
       "    }\n",
       "</style>\n",
       "<table border=\"1\" class=\"dataframe\">\n",
       "  <thead>\n",
       "    <tr style=\"text-align: right;\">\n",
       "      <th></th>\n",
       "      <th>id</th>\n",
       "      <th>name</th>\n",
       "      <th>ml_target</th>\n",
       "    </tr>\n",
       "  </thead>\n",
       "  <tbody>\n",
       "    <tr>\n",
       "      <th>0</th>\n",
       "      <td>0</td>\n",
       "      <td>Eiryyy</td>\n",
       "      <td>0</td>\n",
       "    </tr>\n",
       "    <tr>\n",
       "      <th>1</th>\n",
       "      <td>1</td>\n",
       "      <td>shawflying</td>\n",
       "      <td>0</td>\n",
       "    </tr>\n",
       "    <tr>\n",
       "      <th>2</th>\n",
       "      <td>2</td>\n",
       "      <td>JpMCarrilho</td>\n",
       "      <td>1</td>\n",
       "    </tr>\n",
       "    <tr>\n",
       "      <th>3</th>\n",
       "      <td>3</td>\n",
       "      <td>SuhwanCha</td>\n",
       "      <td>0</td>\n",
       "    </tr>\n",
       "    <tr>\n",
       "      <th>4</th>\n",
       "      <td>4</td>\n",
       "      <td>sunilangadi2</td>\n",
       "      <td>1</td>\n",
       "    </tr>\n",
       "  </tbody>\n",
       "</table>\n",
       "</div>"
      ],
      "text/plain": [
       "   id          name  ml_target\n",
       "0   0        Eiryyy          0\n",
       "1   1    shawflying          0\n",
       "2   2   JpMCarrilho          1\n",
       "3   3     SuhwanCha          0\n",
       "4   4  sunilangadi2          1"
      ]
     },
     "metadata": {},
     "output_type": "display_data"
    }
   ],
   "source": [
    "# Inspect the shape and data types of each DataFrame\n",
    "print(\"df_edges shape:\", df_edges.shape)\n",
    "print(\"df_edges info:\")\n",
    "display(df_edges.info())\n",
    "\n",
    "print(\"\\ndf_features shape:\", df_features.shape)\n",
    "print(\"df_features info:\")\n",
    "display(df_features.info())\n",
    "\n",
    "print(\"\\ndf_target shape:\", df_target.shape)\n",
    "print(\"df_target info:\")\n",
    "display(df_target.info())\n",
    "\n",
    "\n",
    "# Identify node and edge columns\n",
    "print(\"\\ndf_edges unique values in id_1:\", df_edges['id_1'].nunique())\n",
    "print(\"df_edges unique values in id_2:\", df_edges['id_2'].nunique())\n",
    "\n",
    "print(\"\\ndf_features index (potential node IDs):\", df_features.index.nunique())\n",
    "print(\"First 5 values of the df_features index:\", df_features.index.unique()[:5])\n",
    "\n",
    "print(\"\\ndf_target unique values in id:\", df_target['id'].nunique())\n",
    "print(\"First 5 values of the id column in df_target:\", df_target['id'].unique()[:5])\n",
    "\n",
    "# Relationship analysis: check for missing values and inconsistencies\n",
    "print(\"\\nMissing values in df_edges:\", df_edges.isnull().sum().sum())\n",
    "print(\"Missing values in df_features:\", df_features.isnull().sum().sum())\n",
    "print(\"Missing values in df_target:\", df_target.isnull().sum().sum())\n",
    "\n",
    "# Visual inspection\n",
    "print(\"\\nFirst 5 rows of df_edges:\")\n",
    "display(df_edges.head())\n",
    "\n",
    "print(\"\\nFirst 5 rows of df_features:\")\n",
    "display(df_features.head())\n",
    "\n",
    "print(\"\\nFirst 5 rows of df_target:\")\n",
    "display(df_target.head())"
   ]
  },
  {
   "cell_type": "markdown",
   "metadata": {
    "id": "OYo8yElrnB_v"
   },
   "source": [
    "## Data wrangling\n",
    "\n",
    "### Subtask:\n",
    "Merge the three dataframes: `df_edges`, `df_features`, and `df_target` into a single dataframe suitable for graph creation.\n"
   ]
  },
  {
   "cell_type": "markdown",
   "metadata": {
    "id": "KBk9V8-XnCxT"
   },
   "source": [
    "**Reasoning**:\n",
    "Convert the index of `df_features` to numeric and merge the three dataframes. Handle potential errors during index conversion and missing values after merging.\n",
    "\n"
   ]
  },
  {
   "cell_type": "code",
   "execution_count": 8,
   "metadata": {
    "colab": {
     "base_uri": "https://localhost:8080/",
     "height": 1000
    },
    "id": "uZiu23BTnDGt",
    "outputId": "ddef82aa-7861-493c-f485-21d883e11e92"
   },
   "outputs": [
    {
     "name": "stdout",
     "output_type": "stream",
     "text": [
      "Missing values in the final dataframe:\n",
      " 0                 0\n",
      "1                 0\n",
      "2                 0\n",
      "3                 0\n",
      "4                 0\n",
      "5                 0\n",
      "6                 0\n",
      "7                 0\n",
      "8                11\n",
      "9               261\n",
      "10              918\n",
      "11             2719\n",
      "12             9387\n",
      "13            24265\n",
      "14            49075\n",
      "15            82123\n",
      "16           117843\n",
      "17           150448\n",
      "18           180805\n",
      "19           214124\n",
      "20           238555\n",
      "21           254141\n",
      "22           266144\n",
      "23           272760\n",
      "24           278718\n",
      "25           283912\n",
      "26           286346\n",
      "27           287585\n",
      "28           288152\n",
      "29           288508\n",
      "30           288772\n",
      "31           288905\n",
      "32           288938\n",
      "33           288971\n",
      "34           288996\n",
      "35           289002\n",
      "36           289002\n",
      "37           289002\n",
      "38           289002\n",
      "39           289002\n",
      "40           289002\n",
      "41           289002\n",
      "id                0\n",
      "name              0\n",
      "ml_target         0\n",
      "id_1              0\n",
      "id_2              0\n",
      "dtype: int64\n",
      "(289003, 47)\n"
     ]
    },
    {
     "data": {
      "text/html": [
       "<div>\n",
       "<style scoped>\n",
       "    .dataframe tbody tr th:only-of-type {\n",
       "        vertical-align: middle;\n",
       "    }\n",
       "\n",
       "    .dataframe tbody tr th {\n",
       "        vertical-align: top;\n",
       "    }\n",
       "\n",
       "    .dataframe thead th {\n",
       "        text-align: right;\n",
       "    }\n",
       "</style>\n",
       "<table border=\"1\" class=\"dataframe\">\n",
       "  <thead>\n",
       "    <tr style=\"text-align: right;\">\n",
       "      <th></th>\n",
       "      <th>0</th>\n",
       "      <th>1</th>\n",
       "      <th>2</th>\n",
       "      <th>3</th>\n",
       "      <th>4</th>\n",
       "      <th>5</th>\n",
       "      <th>6</th>\n",
       "      <th>7</th>\n",
       "      <th>8</th>\n",
       "      <th>9</th>\n",
       "      <th>...</th>\n",
       "      <th>37</th>\n",
       "      <th>38</th>\n",
       "      <th>39</th>\n",
       "      <th>40</th>\n",
       "      <th>41</th>\n",
       "      <th>id</th>\n",
       "      <th>name</th>\n",
       "      <th>ml_target</th>\n",
       "      <th>id_1</th>\n",
       "      <th>id_2</th>\n",
       "    </tr>\n",
       "  </thead>\n",
       "  <tbody>\n",
       "    <tr>\n",
       "      <th>0</th>\n",
       "      <td>1574</td>\n",
       "      <td>3773</td>\n",
       "      <td>3571</td>\n",
       "      <td>2672</td>\n",
       "      <td>2478</td>\n",
       "      <td>2534</td>\n",
       "      <td>3129</td>\n",
       "      <td>3077</td>\n",
       "      <td>1171.0</td>\n",
       "      <td>2045.0</td>\n",
       "      <td>...</td>\n",
       "      <td>3887.0</td>\n",
       "      <td>2184.0</td>\n",
       "      <td>3534.0</td>\n",
       "      <td>2683.0</td>\n",
       "      <td>274.0</td>\n",
       "      <td>0</td>\n",
       "      <td>Eiryyy</td>\n",
       "      <td>0</td>\n",
       "      <td>0</td>\n",
       "      <td>23977</td>\n",
       "    </tr>\n",
       "    <tr>\n",
       "      <th>1</th>\n",
       "      <td>1193</td>\n",
       "      <td>376</td>\n",
       "      <td>73</td>\n",
       "      <td>290</td>\n",
       "      <td>3129</td>\n",
       "      <td>1852</td>\n",
       "      <td>3077</td>\n",
       "      <td>1171</td>\n",
       "      <td>1022.0</td>\n",
       "      <td>2045.0</td>\n",
       "      <td>...</td>\n",
       "      <td>3887.0</td>\n",
       "      <td>2184.0</td>\n",
       "      <td>3534.0</td>\n",
       "      <td>2683.0</td>\n",
       "      <td>274.0</td>\n",
       "      <td>1</td>\n",
       "      <td>shawflying</td>\n",
       "      <td>0</td>\n",
       "      <td>1</td>\n",
       "      <td>34526</td>\n",
       "    </tr>\n",
       "    <tr>\n",
       "      <th>2</th>\n",
       "      <td>1193</td>\n",
       "      <td>376</td>\n",
       "      <td>73</td>\n",
       "      <td>290</td>\n",
       "      <td>3129</td>\n",
       "      <td>1852</td>\n",
       "      <td>3077</td>\n",
       "      <td>1171</td>\n",
       "      <td>1022.0</td>\n",
       "      <td>2045.0</td>\n",
       "      <td>...</td>\n",
       "      <td>3887.0</td>\n",
       "      <td>2184.0</td>\n",
       "      <td>3534.0</td>\n",
       "      <td>2683.0</td>\n",
       "      <td>274.0</td>\n",
       "      <td>1</td>\n",
       "      <td>shawflying</td>\n",
       "      <td>0</td>\n",
       "      <td>1</td>\n",
       "      <td>2370</td>\n",
       "    </tr>\n",
       "    <tr>\n",
       "      <th>3</th>\n",
       "      <td>1193</td>\n",
       "      <td>376</td>\n",
       "      <td>73</td>\n",
       "      <td>290</td>\n",
       "      <td>3129</td>\n",
       "      <td>1852</td>\n",
       "      <td>3077</td>\n",
       "      <td>1171</td>\n",
       "      <td>1022.0</td>\n",
       "      <td>2045.0</td>\n",
       "      <td>...</td>\n",
       "      <td>3887.0</td>\n",
       "      <td>2184.0</td>\n",
       "      <td>3534.0</td>\n",
       "      <td>2683.0</td>\n",
       "      <td>274.0</td>\n",
       "      <td>1</td>\n",
       "      <td>shawflying</td>\n",
       "      <td>0</td>\n",
       "      <td>1</td>\n",
       "      <td>14683</td>\n",
       "    </tr>\n",
       "    <tr>\n",
       "      <th>4</th>\n",
       "      <td>1193</td>\n",
       "      <td>376</td>\n",
       "      <td>73</td>\n",
       "      <td>290</td>\n",
       "      <td>3129</td>\n",
       "      <td>1852</td>\n",
       "      <td>3077</td>\n",
       "      <td>1171</td>\n",
       "      <td>1022.0</td>\n",
       "      <td>2045.0</td>\n",
       "      <td>...</td>\n",
       "      <td>3887.0</td>\n",
       "      <td>2184.0</td>\n",
       "      <td>3534.0</td>\n",
       "      <td>2683.0</td>\n",
       "      <td>274.0</td>\n",
       "      <td>1</td>\n",
       "      <td>shawflying</td>\n",
       "      <td>0</td>\n",
       "      <td>1</td>\n",
       "      <td>29982</td>\n",
       "    </tr>\n",
       "  </tbody>\n",
       "</table>\n",
       "<p>5 rows × 47 columns</p>\n",
       "</div>"
      ],
      "text/plain": [
       "      0     1     2     3     4     5     6     7       8       9  ...  \\\n",
       "0  1574  3773  3571  2672  2478  2534  3129  3077  1171.0  2045.0  ...   \n",
       "1  1193   376    73   290  3129  1852  3077  1171  1022.0  2045.0  ...   \n",
       "2  1193   376    73   290  3129  1852  3077  1171  1022.0  2045.0  ...   \n",
       "3  1193   376    73   290  3129  1852  3077  1171  1022.0  2045.0  ...   \n",
       "4  1193   376    73   290  3129  1852  3077  1171  1022.0  2045.0  ...   \n",
       "\n",
       "       37      38      39      40     41  id        name  ml_target  id_1  \\\n",
       "0  3887.0  2184.0  3534.0  2683.0  274.0   0      Eiryyy          0     0   \n",
       "1  3887.0  2184.0  3534.0  2683.0  274.0   1  shawflying          0     1   \n",
       "2  3887.0  2184.0  3534.0  2683.0  274.0   1  shawflying          0     1   \n",
       "3  3887.0  2184.0  3534.0  2683.0  274.0   1  shawflying          0     1   \n",
       "4  3887.0  2184.0  3534.0  2683.0  274.0   1  shawflying          0     1   \n",
       "\n",
       "    id_2  \n",
       "0  23977  \n",
       "1  34526  \n",
       "2   2370  \n",
       "3  14683  \n",
       "4  29982  \n",
       "\n",
       "[5 rows x 47 columns]"
      ]
     },
     "metadata": {},
     "output_type": "display_data"
    }
   ],
   "source": [
    "# Convert the index of df_features to numeric\n",
    "try:\n",
    "    df_features.index = pd.to_numeric(df_features.index, errors='raise')\n",
    "    df_features.index = df_features.index.astype('int64')\n",
    "except ValueError as e:\n",
    "    print(f\"Error converting index to numeric: {e}\")\n",
    "    # Handle the error, e.g., by removing or imputing problematic rows\n",
    "    # For this example, I will skip the problematic rows.\n",
    "    # In a real-world scenario, investigate the problematic rows and choose the appropriate method.\n",
    "    # problematic_indices = df_features.index[pd.to_numeric(df_features.index, errors='coerce').isnull()]\n",
    "    # df_features = df_features.drop(problematic_indices)\n",
    "    # df_features.index = pd.to_numeric(df_features.index, errors='coerce').dropna().astype('int64')\n",
    "\n",
    "# Merge df_features and df_target\n",
    "df_merged = pd.merge(df_features, df_target, left_index=True, right_on='id', how='inner')\n",
    "\n",
    "# Merge with df_edges\n",
    "df_final = pd.merge(df_merged, df_edges, left_on='id', right_on='id_1', how='inner')\n",
    "\n",
    "# Handle missing values\n",
    "# Check for missing values after merging\n",
    "print(\"Missing values in the final dataframe:\\n\", df_final.isnull().sum())\n",
    "# Since the missing values are mostly in the feature columns, we can impute them with the mean.\n",
    "for col in df_final.columns:\n",
    "    if df_final[col].isnull().any():\n",
    "        if pd.api.types.is_numeric_dtype(df_final[col]):\n",
    "            df_final[col] = df_final[col].fillna(df_final[col].mean())\n",
    "        else:\n",
    "            #Handle other data types if needed\n",
    "            pass\n",
    "\n",
    "print(df_final.shape)\n",
    "display(df_final.head())"
   ]
  },
  {
   "cell_type": "markdown",
   "metadata": {
    "id": "6NDp9k72nHGW"
   },
   "source": [
    "## Data preparation\n",
    "\n",
    "### Subtask:\n",
    "Prepare the merged dataframe `df_final` for graph creation.\n"
   ]
  },
  {
   "cell_type": "markdown",
   "metadata": {
    "id": "pjsVpovnnIWm"
   },
   "source": [
    "**Reasoning**:\n",
    "Identify node and edge columns, validate data types, and handle any remaining missing values in `df_final`.\n",
    "\n"
   ]
  },
  {
   "cell_type": "code",
   "execution_count": 13,
   "metadata": {
    "colab": {
     "base_uri": "https://localhost:8080/",
     "height": 1000
    },
    "id": "8atVzr3nnIt3",
    "outputId": "de5de2ca-ad8a-4b80-9d39-82004a4b2592"
   },
   "outputs": [
    {
     "name": "stdout",
     "output_type": "stream",
     "text": [
      "Missing values in the final dataframe:\n",
      " 0            0\n",
      "1            0\n",
      "2            0\n",
      "3            0\n",
      "4            0\n",
      "5            0\n",
      "6            0\n",
      "7            0\n",
      "8            0\n",
      "9            0\n",
      "10           0\n",
      "11           0\n",
      "12           0\n",
      "13           0\n",
      "14           0\n",
      "15           0\n",
      "16           0\n",
      "17           0\n",
      "18           0\n",
      "19           0\n",
      "20           0\n",
      "21           0\n",
      "22           0\n",
      "23           0\n",
      "24           0\n",
      "25           0\n",
      "26           0\n",
      "27           0\n",
      "28           0\n",
      "29           0\n",
      "30           0\n",
      "31           0\n",
      "32           0\n",
      "33           0\n",
      "34           0\n",
      "35           0\n",
      "36           0\n",
      "37           0\n",
      "38           0\n",
      "39           0\n",
      "40           0\n",
      "41           0\n",
      "id           0\n",
      "name         0\n",
      "ml_target    0\n",
      "id_1         0\n",
      "id_2         0\n",
      "dtype: int64\n"
     ]
    },
    {
     "data": {
      "text/html": [
       "<div>\n",
       "<style scoped>\n",
       "    .dataframe tbody tr th:only-of-type {\n",
       "        vertical-align: middle;\n",
       "    }\n",
       "\n",
       "    .dataframe tbody tr th {\n",
       "        vertical-align: top;\n",
       "    }\n",
       "\n",
       "    .dataframe thead th {\n",
       "        text-align: right;\n",
       "    }\n",
       "</style>\n",
       "<table border=\"1\" class=\"dataframe\">\n",
       "  <thead>\n",
       "    <tr style=\"text-align: right;\">\n",
       "      <th></th>\n",
       "      <th>0</th>\n",
       "      <th>1</th>\n",
       "      <th>2</th>\n",
       "      <th>3</th>\n",
       "      <th>4</th>\n",
       "      <th>5</th>\n",
       "      <th>6</th>\n",
       "      <th>7</th>\n",
       "      <th>8</th>\n",
       "      <th>9</th>\n",
       "      <th>...</th>\n",
       "      <th>37</th>\n",
       "      <th>38</th>\n",
       "      <th>39</th>\n",
       "      <th>40</th>\n",
       "      <th>41</th>\n",
       "      <th>id</th>\n",
       "      <th>name</th>\n",
       "      <th>ml_target</th>\n",
       "      <th>id_1</th>\n",
       "      <th>id_2</th>\n",
       "    </tr>\n",
       "  </thead>\n",
       "  <tbody>\n",
       "    <tr>\n",
       "      <th>0</th>\n",
       "      <td>0.365481</td>\n",
       "      <td>0.943190</td>\n",
       "      <td>0.890076</td>\n",
       "      <td>0.6675</td>\n",
       "      <td>0.619810</td>\n",
       "      <td>0.634195</td>\n",
       "      <td>0.781031</td>\n",
       "      <td>0.769019</td>\n",
       "      <td>0.292219</td>\n",
       "      <td>0.510761</td>\n",
       "      <td>...</td>\n",
       "      <td>0.0</td>\n",
       "      <td>0.0</td>\n",
       "      <td>0.0</td>\n",
       "      <td>0.0</td>\n",
       "      <td>0.0</td>\n",
       "      <td>0</td>\n",
       "      <td>Eiryyy</td>\n",
       "      <td>0</td>\n",
       "      <td>0</td>\n",
       "      <td>23977</td>\n",
       "    </tr>\n",
       "    <tr>\n",
       "      <th>1</th>\n",
       "      <td>0.265086</td>\n",
       "      <td>0.081664</td>\n",
       "      <td>0.000000</td>\n",
       "      <td>0.0720</td>\n",
       "      <td>0.782641</td>\n",
       "      <td>0.462968</td>\n",
       "      <td>0.768018</td>\n",
       "      <td>0.292042</td>\n",
       "      <td>0.254941</td>\n",
       "      <td>0.510761</td>\n",
       "      <td>...</td>\n",
       "      <td>0.0</td>\n",
       "      <td>0.0</td>\n",
       "      <td>0.0</td>\n",
       "      <td>0.0</td>\n",
       "      <td>0.0</td>\n",
       "      <td>1</td>\n",
       "      <td>shawflying</td>\n",
       "      <td>0</td>\n",
       "      <td>1</td>\n",
       "      <td>34526</td>\n",
       "    </tr>\n",
       "    <tr>\n",
       "      <th>2</th>\n",
       "      <td>0.265086</td>\n",
       "      <td>0.081664</td>\n",
       "      <td>0.000000</td>\n",
       "      <td>0.0720</td>\n",
       "      <td>0.782641</td>\n",
       "      <td>0.462968</td>\n",
       "      <td>0.768018</td>\n",
       "      <td>0.292042</td>\n",
       "      <td>0.254941</td>\n",
       "      <td>0.510761</td>\n",
       "      <td>...</td>\n",
       "      <td>0.0</td>\n",
       "      <td>0.0</td>\n",
       "      <td>0.0</td>\n",
       "      <td>0.0</td>\n",
       "      <td>0.0</td>\n",
       "      <td>1</td>\n",
       "      <td>shawflying</td>\n",
       "      <td>0</td>\n",
       "      <td>1</td>\n",
       "      <td>2370</td>\n",
       "    </tr>\n",
       "    <tr>\n",
       "      <th>3</th>\n",
       "      <td>0.265086</td>\n",
       "      <td>0.081664</td>\n",
       "      <td>0.000000</td>\n",
       "      <td>0.0720</td>\n",
       "      <td>0.782641</td>\n",
       "      <td>0.462968</td>\n",
       "      <td>0.768018</td>\n",
       "      <td>0.292042</td>\n",
       "      <td>0.254941</td>\n",
       "      <td>0.510761</td>\n",
       "      <td>...</td>\n",
       "      <td>0.0</td>\n",
       "      <td>0.0</td>\n",
       "      <td>0.0</td>\n",
       "      <td>0.0</td>\n",
       "      <td>0.0</td>\n",
       "      <td>1</td>\n",
       "      <td>shawflying</td>\n",
       "      <td>0</td>\n",
       "      <td>1</td>\n",
       "      <td>14683</td>\n",
       "    </tr>\n",
       "    <tr>\n",
       "      <th>4</th>\n",
       "      <td>0.265086</td>\n",
       "      <td>0.081664</td>\n",
       "      <td>0.000000</td>\n",
       "      <td>0.0720</td>\n",
       "      <td>0.782641</td>\n",
       "      <td>0.462968</td>\n",
       "      <td>0.768018</td>\n",
       "      <td>0.292042</td>\n",
       "      <td>0.254941</td>\n",
       "      <td>0.510761</td>\n",
       "      <td>...</td>\n",
       "      <td>0.0</td>\n",
       "      <td>0.0</td>\n",
       "      <td>0.0</td>\n",
       "      <td>0.0</td>\n",
       "      <td>0.0</td>\n",
       "      <td>1</td>\n",
       "      <td>shawflying</td>\n",
       "      <td>0</td>\n",
       "      <td>1</td>\n",
       "      <td>29982</td>\n",
       "    </tr>\n",
       "  </tbody>\n",
       "</table>\n",
       "<p>5 rows × 47 columns</p>\n",
       "</div>"
      ],
      "text/plain": [
       "          0         1         2       3         4         5         6  \\\n",
       "0  0.365481  0.943190  0.890076  0.6675  0.619810  0.634195  0.781031   \n",
       "1  0.265086  0.081664  0.000000  0.0720  0.782641  0.462968  0.768018   \n",
       "2  0.265086  0.081664  0.000000  0.0720  0.782641  0.462968  0.768018   \n",
       "3  0.265086  0.081664  0.000000  0.0720  0.782641  0.462968  0.768018   \n",
       "4  0.265086  0.081664  0.000000  0.0720  0.782641  0.462968  0.768018   \n",
       "\n",
       "          7         8         9  ...   37   38   39   40   41  id        name  \\\n",
       "0  0.769019  0.292219  0.510761  ...  0.0  0.0  0.0  0.0  0.0   0      Eiryyy   \n",
       "1  0.292042  0.254941  0.510761  ...  0.0  0.0  0.0  0.0  0.0   1  shawflying   \n",
       "2  0.292042  0.254941  0.510761  ...  0.0  0.0  0.0  0.0  0.0   1  shawflying   \n",
       "3  0.292042  0.254941  0.510761  ...  0.0  0.0  0.0  0.0  0.0   1  shawflying   \n",
       "4  0.292042  0.254941  0.510761  ...  0.0  0.0  0.0  0.0  0.0   1  shawflying   \n",
       "\n",
       "   ml_target  id_1   id_2  \n",
       "0          0     0  23977  \n",
       "1          0     1  34526  \n",
       "2          0     1   2370  \n",
       "3          0     1  14683  \n",
       "4          0     1  29982  \n",
       "\n",
       "[5 rows x 47 columns]"
      ]
     },
     "metadata": {},
     "output_type": "display_data"
    }
   ],
   "source": [
    "# Identify node and edge columns\n",
    "source_nodes = df_final['id_1']\n",
    "target_nodes = df_final['id_2']\n",
    "\n",
    "# Validate data types\n",
    "# Check if node identifiers are already numeric\n",
    "if not pd.api.types.is_numeric_dtype(source_nodes):\n",
    "    try:\n",
    "        source_nodes = pd.to_numeric(source_nodes, errors='raise')\n",
    "    except ValueError as e:\n",
    "        print(f\"Error converting source nodes to numeric: {e}\")\n",
    "        # Handle the error appropriately, e.g., by removing or imputing problematic values\n",
    "        # For demonstration, I'm skipping the problematic rows.\n",
    "        # In real-world scenarios, decide based on data understanding\n",
    "        pass\n",
    "\n",
    "if not pd.api.types.is_numeric_dtype(target_nodes):\n",
    "    try:\n",
    "        target_nodes = pd.to_numeric(target_nodes, errors='raise')\n",
    "    except ValueError as e:\n",
    "        print(f\"Error converting target nodes to numeric: {e}\")\n",
    "        # Handle the error appropriately\n",
    "        pass\n",
    "\n",
    "# Update df_final with the corrected data types (if necessary)\n",
    "df_final['id_1'] = source_nodes\n",
    "df_final['id_2'] = target_nodes\n",
    "\n",
    "\n",
    "# Handle any remaining missing values (already handled in previous step)\n",
    "# Check if there are any remaining missing values\n",
    "print(\"Missing values in the final dataframe:\\n\", df_final.isnull().sum())\n",
    "\n",
    "# No further action needed as missing values are already imputed.\n",
    "\n",
    "\n",
    "# Feature scaling\n",
    "# Optional: Scale numerical features if needed for visualization or analysis.\n",
    "# Select numerical columns to scale\n",
    "numerical_cols = df_final.select_dtypes(include=['number']).columns\n",
    "# Exclude node ID columns\n",
    "numerical_cols = numerical_cols.drop(['id_1', 'id_2', 'id', 'ml_target'])\n",
    "\n",
    "from sklearn.preprocessing import MinMaxScaler\n",
    "\n",
    "# Initialize a MinMaxScaler\n",
    "scaler = MinMaxScaler()\n",
    "\n",
    "# Fit and transform the numerical features\n",
    "df_final[numerical_cols] = scaler.fit_transform(df_final[numerical_cols])\n",
    "\n",
    "display(df_final.head())"
   ]
  },
  {
   "cell_type": "markdown",
   "metadata": {
    "id": "byJDZlC1nNm1"
   },
   "source": [
    "## Summary:\n",
    "\n",
    "### Q&A\n",
    "No questions were posed in the provided task.\n",
    "\n",
    "### Data Analysis Key Findings\n",
    "* Three CSV and JSON files (`musae_git_edges.csv`, `musae_git_features.json`, and `musae_git_target.csv`) were loaded into pandas DataFrames.\n",
    "* `df_features` contained a substantial number of missing values (increasing with higher column indices) that were later imputed with the mean for numerical features.\n",
    "* The index of `df_features` was of type 'object' while the corresponding 'id' columns in other dataframes were 'int64'. This required a type conversion to 'int64' to enable merging.\n",
    "* The number of unique values in `id_1` and `id_2` of `df_edges` (30,855 and 30,195 respectively) was lower than the number of unique nodes in `df_features` and `df_target` (37,700), indicating some nodes might not have any connections.\n",
    "* Numerical features in `df_final` were scaled using `MinMaxScaler` to a range of 0 to 1, excluding node IDs, `id`, and the target variable `ml_target`.\n",
    "* The final merged dataframe, `df_final`, has a shape of (289003, 47) and includes node features, target labels, and edge information.\n",
    "\n",
    "### Insights or Next Steps\n",
    "* Investigate the meaning of the features in `df_features` to potentially improve imputation strategies beyond mean imputation.\n",
    "* Explore the nodes without connections identified in `df_edges` to understand their significance in the context of the dataset.\n",
    "* Visualize the constructed graph to identify patterns and relationships between nodes.\n"
   ]
  },
  {
   "cell_type": "code",
   "execution_count": 15,
   "metadata": {
    "colab": {
     "base_uri": "https://localhost:8080/"
    },
    "id": "zTZ9UOiuoJSr",
    "outputId": "95ef16e3-f357-4ee3-ec8a-f3bbef11f619"
   },
   "outputs": [
    {
     "name": "stderr",
     "output_type": "stream",
     "text": [
      "\n",
      "[notice] A new release of pip is available: 24.3.1 -> 25.1.1\n",
      "[notice] To update, run: python.exe -m pip install --upgrade pip\n"
     ]
    },
    {
     "name": "stdout",
     "output_type": "stream",
     "text": [
      "Requirement already satisfied: networkx==3.2.1 in f:\\salar\\anaconda\\lib\\site-packages (3.2.1)\n",
      "Graph created with 37700 nodes and 289003 edges.\n"
     ]
    }
   ],
   "source": [
    "# Step 2: Install Necessary Libraries\n",
    "# You can install networkx in Colab using pip\n",
    "!pip install networkx==3.2.1\n",
    "\n",
    "# Step 3: Define Node Features and Labels\n",
    "# Identify the node ID column, edge columns, feature columns, and the target label column\n",
    "node_id_col = 'id'\n",
    "source_node_col = 'id_1'\n",
    "target_node_col = 'id_2'\n",
    "target_label_col = 'ml_target' # Based on the notebook's description of the target\n",
    "\n",
    "# Identify feature columns. Exclude IDs and the target label.\n",
    "feature_cols = [col for col in df_final.columns if col not in [node_id_col, source_node_col, target_node_col, target_label_col]]\n",
    "\n",
    "\n",
    "# Step 4: Create the Graph using NetworkX\n",
    "import networkx as nx\n",
    "\n",
    "# Create an empty graph. Use nx.Graph() for undirected based on \"mutual follower relationships\".\n",
    "G = nx.Graph()\n",
    "\n",
    "# Add nodes with features and labels\n",
    "# We'll iterate through the unique node IDs present in the edge list and target data\n",
    "unique_nodes = pd.concat([df_final[source_node_col], df_final[target_node_col], df_final[node_id_col]]).unique()\n",
    "\n",
    "for node_id in unique_nodes:\n",
    "    # Find the rows in df_final corresponding to this node as either source, target, or id\n",
    "    node_data = df_final[(df_final[source_node_col] == node_id) | (df_final[target_node_col] == node_id) | (df_final[node_id_col] == node_id)].iloc[0] # Take the first matching row\n",
    "\n",
    "    # Extract features for this node\n",
    "    features = node_data[feature_cols].to_dict()\n",
    "\n",
    "    # Extract the target label\n",
    "    label = node_data[target_label_col]\n",
    "\n",
    "    # Add the node to the graph with features and label\n",
    "    G.add_node(node_id, label=label, features=features)\n",
    "\n",
    "\n",
    "# Add edges\n",
    "# Iterate through the edges in df_final\n",
    "for index, row in df_final.iterrows():\n",
    "    source_node = row[source_node_col]\n",
    "    target_node = row[target_node_col]\n",
    "    G.add_edge(source_node, target_node)\n",
    "\n",
    "print(f\"Graph created with {G.number_of_nodes()} nodes and {G.number_of_edges()} edges.\")"
   ]
  },
  {
   "cell_type": "code",
   "execution_count": 16,
   "metadata": {
    "colab": {
     "base_uri": "https://localhost:8080/"
    },
    "id": "Z5KNpsOFoKeZ",
    "outputId": "7cea8587-9c4c-48a4-a082-85489476dcb6"
   },
   "outputs": [
    {
     "name": "stdout",
     "output_type": "stream",
     "text": [
      "\n",
      "Node data for a few nodes:\n",
      "\n",
      "Node ID: 0\n",
      "  Label: 0\n",
      "  Features: {0: 0.3654808959156785, 1: 0.943190464113619, 2: 0.8900763358778626, 3: 0.6675000000000001, 4: 0.6198099049524762, 5: 0.6341953301531509, 6: 0.7810310310310311, 7: 0.769019019019019, 8: 0.29221916437327994, 9: 0.5107607607607608, 10: 0.38428821616212155, 11: 0.22491868901676257, 12: 0.3820731096644967, 13: 0.6179044761190299, 14: 0.280320080020005, 15: 0.6205256570713391, 16: 0.7744436109027258, 17: 0.5275194772555918, 18: 0.3943485871467867, 19: 0.4856437235953308, 20: 0.4632262024037567, 21: 0.44611857886736617, 22: 0.44491552500017356, 23: 0.3956608932687214, 24: 0.42740402312433184, 25: 0.48103161909037834, 26: 0.45354708766197843, 27: 0.4727281937278294, 28: 0.46517565920247755, 29: 0.4462078186848829, 30: 0.3989499424626006, 31: 0.4636308171101683, 32: 0.409162315152047, 33: 0.33692059270516717, 34: 0.3941626523094361, 35: 0.0, 36: 0.0, 37: 0.0, 38: 0.0, 39: 0.0, 40: 0.0, 41: 0.0, 'name': 'Eiryyy'}\n",
      "\n",
      "Node ID: 1\n",
      "  Label: 0\n",
      "  Features: {0: 0.2650856389986825, 1: 0.08166370783667258, 2: 0.0, 3: 0.072, 4: 0.7826413206603301, 5: 0.4629676123524981, 6: 0.7680180180180181, 7: 0.29204204204204204, 8: 0.2549412059044283, 9: 0.5107607607607608, 10: 0.13335001250938203, 11: 0.509632224168126, 12: 0.3823234852278417, 13: 0.382845711427857, 14: 0.6179044761190299, 15: 0.16821026282853568, 16: 0.1992998249562391, 17: 0.4463667247165478, 18: 0.438349737437132, 19: 0.4856437235953308, 20: 0.4632262024037567, 21: 0.44611857886736617, 22: 0.44491552500017356, 23: 0.3956608932687214, 24: 0.42740402312433184, 25: 0.48103161909037834, 26: 0.45354708766197843, 27: 0.4727281937278294, 28: 0.46517565920247755, 29: 0.4462078186848829, 30: 0.3989499424626006, 31: 0.4636308171101683, 32: 0.409162315152047, 33: 0.33692059270516717, 34: 0.3941626523094361, 35: 0.0, 36: 0.0, 37: 0.0, 38: 0.0, 39: 0.0, 40: 0.0, 41: 0.0, 'name': 'shawflying'}\n",
      "\n",
      "Node ID: 2\n",
      "  Label: 1\n",
      "  Features: {0: 0.3654808959156785, 1: 0.943190464113619, 2: 0.216793893129771, 3: 0.4315, 4: 0.7041020510255127, 5: 0.7419030881245293, 6: 0.7680180180180181, 7: 0.09009009009009009, 8: 0.29221916437327994, 9: 0.13313313313313313, 10: 0.46634976232174125, 11: 0.6177132849637228, 12: 0.27941912869303953, 13: 0.6329082270567643, 14: 0.1657914478619655, 15: 0.006758448060075094, 16: 0.827706926731683, 17: 0.44031163608946966, 18: 0.2170542635658915, 19: 0.4856437235953308, 20: 0.4632262024037567, 21: 0.44611857886736617, 22: 0.44491552500017356, 23: 0.3956608932687214, 24: 0.42740402312433184, 25: 0.48103161909037834, 26: 0.45354708766197843, 27: 0.4727281937278294, 28: 0.46517565920247755, 29: 0.4462078186848829, 30: 0.3989499424626006, 31: 0.4636308171101683, 32: 0.409162315152047, 33: 0.33692059270516717, 34: 0.3941626523094361, 35: 0.0, 36: 0.0, 37: 0.0, 38: 0.0, 39: 0.0, 40: 0.0, 41: 0.0, 'name': 'JpMCarrilho'}\n",
      "\n",
      "Node ID: 3\n",
      "  Label: 0\n",
      "  Features: {0: 0.9952569169960473, 1: 0.943190464113619, 2: 1.0, 3: 0.2315, 4: 0.4632316158079039, 5: 0.7705247301029375, 6: 0.0890890890890891, 7: 0.2547547547547548, 8: 0.9407055291468601, 9: 0.5107607607607608, 10: 0.9647235426569927, 11: 0.9427070302727045, 12: 0.057085628442663995, 13: 0.1657914478619655, 14: 0.1755438859714929, 15: 0.4860444211006217, 16: 0.4492018146509051, 17: 0.4463667247165478, 18: 0.438349737437132, 19: 0.4856437235953308, 20: 0.4632262024037567, 21: 0.44611857886736617, 22: 0.44491552500017356, 23: 0.3956608932687214, 24: 0.42740402312433184, 25: 0.48103161909037834, 26: 0.45354708766197843, 27: 0.4727281937278294, 28: 0.46517565920247755, 29: 0.4462078186848829, 30: 0.3989499424626006, 31: 0.4636308171101683, 32: 0.409162315152047, 33: 0.33692059270516717, 34: 0.3941626523094361, 35: 0.0, 36: 0.0, 37: 0.0, 38: 0.0, 39: 0.0, 40: 0.0, 41: 0.0, 'name': 'SuhwanCha'}\n",
      "\n",
      "Node ID: 4\n",
      "  Label: 1\n",
      "  Features: {0: 0.4590250329380764, 1: 0.943190464113619, 2: 0.43765903307888043, 3: 0.8772500000000001, 4: 0.32266133066533265, 5: 0.78358021591765, 6: 0.7680180180180181, 7: 0.09009009009009009, 8: 0.29221916437327994, 9: 0.2547547547547548, 10: 0.5108831623717788, 11: 0.13335001250938203, 12: 0.2786680020030045, 13: 0.022505626406601652, 14: 0.382845711427857, 15: 0.9436795994993742, 16: 0.280320080020005, 17: 0.17265644634330232, 18: 0.25006251562890724, 19: 0.4856437235953308, 20: 0.4632262024037567, 21: 0.44611857886736617, 22: 0.44491552500017356, 23: 0.3956608932687214, 24: 0.42740402312433184, 25: 0.48103161909037834, 26: 0.45354708766197843, 27: 0.4727281937278294, 28: 0.46517565920247755, 29: 0.4462078186848829, 30: 0.3989499424626006, 31: 0.4636308171101683, 32: 0.409162315152047, 33: 0.33692059270516717, 34: 0.3941626523094361, 35: 0.0, 36: 0.0, 37: 0.0, 38: 0.0, 39: 0.0, 40: 0.0, 41: 0.0, 'name': 'sunilangadi2'}\n"
     ]
    }
   ],
   "source": [
    "# prompt: print node with their features\n",
    "\n",
    "# Print node data (features and label) for a few nodes\n",
    "print(\"\\nNode data for a few nodes:\")\n",
    "for i, node_id in enumerate(list(G.nodes)[:5]): # Print data for the first 5 nodes\n",
    "    node_data = G.nodes[node_id]\n",
    "    print(f\"\\nNode ID: {node_id}\")\n",
    "    print(f\"  Label: {node_data.get('label')}\")\n",
    "    print(f\"  Features: {node_data.get('features')}\")"
   ]
  },
  {
   "cell_type": "code",
   "execution_count": 18,
   "metadata": {
    "colab": {
     "base_uri": "https://localhost:8080/"
    },
    "id": "Fc8f8uXqopby",
    "outputId": "cc30fd63-c567-4031-8f8b-ad3ec743ecbe"
   },
   "outputs": [
    {
     "name": "stdout",
     "output_type": "stream",
     "text": [
      "\n",
      "Node labels:\n"
     ]
    }
   ],
   "source": [
    "# prompt: print node labels\n",
    "\n",
    "# Print the labels of the nodes\n",
    "print(\"\\nNode labels:\")\n",
    "# for node, data in G.nodes(data=True):\n",
    "#   print(f\"Node {node}: Label = {data.get('label')}\")"
   ]
  },
  {
   "cell_type": "markdown",
   "metadata": {},
   "source": [
    "# GNN"
   ]
  },
  {
   "cell_type": "markdown",
   "metadata": {},
   "source": [
    "Predict whether a GitHub developer is a \"web developer\" or a \"machine learning developer\" based on the graph structure (mutual follower relationships) and the developer's features (location, repositories starred, employer, email address)."
   ]
  },
  {
   "cell_type": "code",
   "execution_count": 21,
   "metadata": {},
   "outputs": [
    {
     "name": "stdout",
     "output_type": "stream",
     "text": [
      "Requirement already satisfied: torch-geometric in f:\\salar\\anaconda\\lib\\site-packages (2.6.1)\n",
      "Requirement already satisfied: aiohttp in f:\\salar\\anaconda\\lib\\site-packages (from torch-geometric) (3.9.3)\n",
      "Requirement already satisfied: fsspec in f:\\salar\\anaconda\\lib\\site-packages (from torch-geometric) (2023.10.0)\n",
      "Requirement already satisfied: jinja2 in f:\\salar\\anaconda\\lib\\site-packages (from torch-geometric) (3.1.3)\n",
      "Requirement already satisfied: numpy in f:\\salar\\anaconda\\lib\\site-packages (from torch-geometric) (1.26.4)\n",
      "Requirement already satisfied: psutil>=5.8.0 in f:\\salar\\anaconda\\lib\\site-packages (from torch-geometric) (5.9.0)\n",
      "Requirement already satisfied: pyparsing in f:\\salar\\anaconda\\lib\\site-packages (from torch-geometric) (3.0.9)\n",
      "Requirement already satisfied: requests in f:\\salar\\anaconda\\lib\\site-packages (from torch-geometric) (2.32.3)\n",
      "Requirement already satisfied: tqdm in f:\\salar\\anaconda\\lib\\site-packages (from torch-geometric) (4.65.0)\n",
      "Requirement already satisfied: aiosignal>=1.1.2 in f:\\salar\\anaconda\\lib\\site-packages (from aiohttp->torch-geometric) (1.2.0)\n",
      "Requirement already satisfied: attrs>=17.3.0 in f:\\salar\\anaconda\\lib\\site-packages (from aiohttp->torch-geometric) (23.1.0)\n",
      "Requirement already satisfied: frozenlist>=1.1.1 in f:\\salar\\anaconda\\lib\\site-packages (from aiohttp->torch-geometric) (1.4.0)\n",
      "Requirement already satisfied: multidict<7.0,>=4.5 in f:\\salar\\anaconda\\lib\\site-packages (from aiohttp->torch-geometric) (6.0.4)\n",
      "Requirement already satisfied: yarl<2.0,>=1.0 in f:\\salar\\anaconda\\lib\\site-packages (from aiohttp->torch-geometric) (1.9.3)\n",
      "Requirement already satisfied: MarkupSafe>=2.0 in f:\\salar\\anaconda\\lib\\site-packages (from jinja2->torch-geometric) (2.1.3)\n",
      "Requirement already satisfied: charset-normalizer<4,>=2 in f:\\salar\\anaconda\\lib\\site-packages (from requests->torch-geometric) (2.0.4)\n",
      "Requirement already satisfied: idna<4,>=2.5 in f:\\salar\\anaconda\\lib\\site-packages (from requests->torch-geometric) (3.4)\n",
      "Requirement already satisfied: urllib3<3,>=1.21.1 in f:\\salar\\anaconda\\lib\\site-packages (from requests->torch-geometric) (2.0.7)\n",
      "Requirement already satisfied: certifi>=2017.4.17 in f:\\salar\\anaconda\\lib\\site-packages (from requests->torch-geometric) (2025.1.31)\n",
      "Requirement already satisfied: colorama in f:\\salar\\anaconda\\lib\\site-packages (from tqdm->torch-geometric) (0.4.6)\n"
     ]
    },
    {
     "name": "stderr",
     "output_type": "stream",
     "text": [
      "\n",
      "[notice] A new release of pip is available: 24.3.1 -> 25.1.1\n",
      "[notice] To update, run: python.exe -m pip install --upgrade pip\n"
     ]
    }
   ],
   "source": [
    "!pip install torch-geometric"
   ]
  },
  {
   "cell_type": "code",
   "execution_count": 62,
   "metadata": {},
   "outputs": [],
   "source": [
    "import pandas\n",
    "import numpy as np\n",
    "import scipy.sparse as sp\n",
    "import random\n",
    "\n",
    "from sklearn.model_selection import train_test_split\n",
    "from sklearn.preprocessing import OneHotEncoder, normalize\n",
    "\n",
    "import torch\n",
    "from torch import nn\n",
    "import torch.nn.functional as F\n",
    "from torch.nn import Parameter, Module\n",
    "from torch.nn import Linear\n",
    "from torch_geometric.nn import GCNConv, SAGEConv, GATConv, TransformerConv, TopKPooling\n",
    "from tqdm import trange\n",
    "import torch.optim as optim \n",
    "from torch_geometric.utils import from_networkx\n",
    "\n",
    "import matplotlib.pyplot as plt"
   ]
  },
  {
   "cell_type": "code",
   "execution_count": 23,
   "metadata": {},
   "outputs": [],
   "source": [
    "device = torch.device('cuda' if torch.cuda.is_available() else 'cpu')"
   ]
  },
  {
   "cell_type": "markdown",
   "metadata": {},
   "source": [
    "## Task:\n",
    "Split the nodes into training, validation, and test sets"
   ]
  },
  {
   "cell_type": "code",
   "execution_count": 25,
   "metadata": {},
   "outputs": [],
   "source": [
    "# Convert NetworkX graph to PyTorch Geometric Data object to use in the model\n",
    "data = from_networkx(G).to(device)"
   ]
  },
  {
   "cell_type": "code",
   "execution_count": 26,
   "metadata": {},
   "outputs": [],
   "source": [
    "# Handle Graph input\n",
    "node_data, node_labels, node_features = zip(*((node, data['label'], data['features']) for node, data in G.nodes(data=True)))\n",
    "\n",
    "node_data = np.array(node_data)\n",
    "node_labels = np.array(node_labels)\n",
    "node_features = np.array(node_features)"
   ]
  },
  {
   "cell_type": "code",
   "execution_count": 27,
   "metadata": {},
   "outputs": [],
   "source": [
    "# Train/Val/Test := 60/20/20\n",
    "x_train, x_test, y_train, y_test = train_test_split(node_data, node_labels, stratify=node_labels, test_size=0.4, random_state=1)\n",
    "x_val, x_test, y_val, y_test = train_test_split(x_test, y_test, stratify=y_test, test_size=0.5, random_state=1)\n",
    "\n",
    "data.train_mask = torch.zeros(len(node_data), dtype=torch.bool, device=device).scatter_(0, torch.tensor(x_train, device=device), True)\n",
    "data.val_mask   = torch.zeros(len(node_data), dtype=torch.bool, device=device).scatter_(0, torch.tensor(x_val, device=device), True)\n",
    "data.test_mask  = torch.zeros(len(node_data), dtype=torch.bool, device=device).scatter_(0, torch.tensor(x_test, device=device), True)"
   ]
  },
  {
   "cell_type": "code",
   "execution_count": 28,
   "metadata": {},
   "outputs": [],
   "source": [
    "# get feature matrix and convert it to tensor\n",
    "numeric_keys = sorted(k for k in node_features[0] if isinstance(k, int) and isinstance(node_features[0][k], (int, float)))\n",
    "cat_keys = ['name'] if 'name' in node_features[0] else []\n",
    "\n",
    "feat_numeric = np.array([[feat[k] for k in numeric_keys] for feat in node_features])\n",
    "feat_cat_raw = np.array([[feat.get(k, 'unknown') for k in cat_keys] for feat in node_features])\n",
    "\n",
    "if cat_keys: # handle string feature as well!\n",
    "    encoder = OneHotEncoder(sparse_output=False, handle_unknown='ignore')\n",
    "    feat_cat = encoder.fit_transform(feat_cat_raw)\n",
    "    features = np.concatenate([feat_numeric, feat_cat], axis=1)\n",
    "else:\n",
    "    features = feat_numeric\n",
    "\n",
    "\n",
    "# TODO[check]: Maybe it's better not to use normalize!\n",
    "features = normalize(features, axis=1)\n",
    "\n",
    "data.x = torch.from_numpy(features).float().to(device)\n",
    "data.y = torch.tensor(node_labels, dtype=torch.long).to(device)"
   ]
  },
  {
   "cell_type": "markdown",
   "metadata": {},
   "source": [
    "## Task:\n",
    "Build a simple GNN model (e.g., a Graph Convolutional Network - GCN) that takes node features and the graph structure as input."
   ]
  },
  {
   "cell_type": "code",
   "execution_count": 30,
   "metadata": {},
   "outputs": [],
   "source": [
    "class GCN(torch.nn.Module):\n",
    "    def __init__(self, num_input, num_hidden1, num_hidden2, num_out, dropout):\n",
    "        super().__init__()\n",
    "        self.gcn1 = GCNConv(num_input, num_hidden1)\n",
    "        self.gcn2 = GCNConv(num_hidden1, num_hidden2)\n",
    "        self.out = Linear(num_hidden2, num_out)\n",
    "\n",
    "        self.dropout = nn.Dropout(p=dropout)\n",
    "\n",
    "    def forward(self, data):\n",
    "        x, edge_index = data.x, data.edge_index\n",
    "        x = self.dropout(self.gcn1(x, edge_index).relu())\n",
    "        x = self.dropout(self.gcn2(x, edge_index).relu())\n",
    "\n",
    "        x = self.out(x)\n",
    "        return x"
   ]
  },
  {
   "cell_type": "code",
   "execution_count": 31,
   "metadata": {},
   "outputs": [],
   "source": [
    "class GraphSAGE(torch.nn.Module):\n",
    "    def __init__(self, num_input, num_hidden1, num_hidden2, num_out, dropout):\n",
    "        super().__init__()\n",
    "        self.conv1 = SAGEConv(num_input, num_hidden1)\n",
    "        self.conv2 = SAGEConv(num_hidden1, num_hidden2)\n",
    "        self.out = Linear(num_hidden2, num_out)\n",
    "        self.dropout = nn.Dropout(p=dropout)\n",
    "\n",
    "    def forward(self, data):\n",
    "        x, edge_index = data.x, data.edge_index\n",
    "        x = self.conv1(x, edge_index)\n",
    "        x = F.relu(x)\n",
    "        x = self.dropout(x)\n",
    "        \n",
    "        x = self.conv2(x, edge_index)\n",
    "        x = F.relu(x)\n",
    "        x = self.dropout(x)\n",
    "        \n",
    "        x = self.out(x)\n",
    "        return x"
   ]
  },
  {
   "cell_type": "markdown",
   "metadata": {},
   "source": [
    "## Task:\n",
    "Train the GNN model to predict the target variable for each node\n",
    "Evaluate the model's performance using metrics appropriate for classification."
   ]
  },
  {
   "cell_type": "code",
   "execution_count": 33,
   "metadata": {},
   "outputs": [],
   "source": [
    "def compute_accuracy(output, input_y, data_mask):\n",
    "    pred = output.argmax(dim=1)\n",
    "    correct = pred[data_mask].eq(input_y[data_mask]).sum().item()\n",
    "    acc = correct / data_mask.sum().item()\n",
    "    return acc"
   ]
  },
  {
   "cell_type": "code",
   "execution_count": 54,
   "metadata": {},
   "outputs": [
    {
     "name": "stderr",
     "output_type": "stream",
     "text": [
      "  0%|                                                                               | 1/2000 [00:12<6:52:54, 12.39s/it]"
     ]
    },
    {
     "name": "stdout",
     "output_type": "stream",
     "text": [
      "Epoch 1, Loss: 0.7124, Train Acc: 0.2214, Val Acc: 0.2019, Test Acc: 0.2057\n"
     ]
    },
    {
     "name": "stderr",
     "output_type": "stream",
     "text": [
      "  2%|█▉                                                                            | 49/2000 [10:08<6:44:01, 12.43s/it]\n"
     ]
    },
    {
     "ename": "KeyboardInterrupt",
     "evalue": "",
     "output_type": "error",
     "traceback": [
      "\u001b[1;31m---------------------------------------------------------------------------\u001b[0m",
      "\u001b[1;31mKeyboardInterrupt\u001b[0m                         Traceback (most recent call last)",
      "Cell \u001b[1;32mIn[54], line 25\u001b[0m\n\u001b[0;32m     22\u001b[0m opt\u001b[38;5;241m.\u001b[39mzero_grad()\n\u001b[0;32m     24\u001b[0m train_out \u001b[38;5;241m=\u001b[39m model(data)\n\u001b[1;32m---> 25\u001b[0m loss \u001b[38;5;241m=\u001b[39m F\u001b[38;5;241m.\u001b[39mcross_entropy(train_out[data\u001b[38;5;241m.\u001b[39mtrain_mask], data\u001b[38;5;241m.\u001b[39my[data\u001b[38;5;241m.\u001b[39mtrain_mask])\n\u001b[0;32m     26\u001b[0m loss\u001b[38;5;241m.\u001b[39mbackward()\n\u001b[0;32m     27\u001b[0m opt\u001b[38;5;241m.\u001b[39mstep()\n",
      "File \u001b[1;32mF:\\Salar\\Anaconda\\Lib\\site-packages\\torch_geometric\\data\\data.py:982\u001b[0m, in \u001b[0;36mData.y\u001b[1;34m(self)\u001b[0m\n\u001b[0;32m    978\u001b[0m \u001b[38;5;129m@edge_attr\u001b[39m\u001b[38;5;241m.\u001b[39msetter\n\u001b[0;32m    979\u001b[0m \u001b[38;5;28;01mdef\u001b[39;00m \u001b[38;5;21medge_attr\u001b[39m(\u001b[38;5;28mself\u001b[39m, edge_attr: Optional[Tensor]):\n\u001b[0;32m    980\u001b[0m     \u001b[38;5;28mself\u001b[39m\u001b[38;5;241m.\u001b[39m_store\u001b[38;5;241m.\u001b[39medge_attr \u001b[38;5;241m=\u001b[39m edge_attr\n\u001b[1;32m--> 982\u001b[0m \u001b[38;5;129m@property\u001b[39m\n\u001b[0;32m    983\u001b[0m \u001b[38;5;28;01mdef\u001b[39;00m \u001b[38;5;21my\u001b[39m(\u001b[38;5;28mself\u001b[39m) \u001b[38;5;241m-\u001b[39m\u001b[38;5;241m>\u001b[39m Optional[Union[Tensor, \u001b[38;5;28mint\u001b[39m, \u001b[38;5;28mfloat\u001b[39m]]:\n\u001b[0;32m    984\u001b[0m     \u001b[38;5;28;01mreturn\u001b[39;00m \u001b[38;5;28mself\u001b[39m[\u001b[38;5;124m'\u001b[39m\u001b[38;5;124my\u001b[39m\u001b[38;5;124m'\u001b[39m] \u001b[38;5;28;01mif\u001b[39;00m \u001b[38;5;124m'\u001b[39m\u001b[38;5;124my\u001b[39m\u001b[38;5;124m'\u001b[39m \u001b[38;5;129;01min\u001b[39;00m \u001b[38;5;28mself\u001b[39m\u001b[38;5;241m.\u001b[39m_store \u001b[38;5;28;01melse\u001b[39;00m \u001b[38;5;28;01mNone\u001b[39;00m\n\u001b[0;32m    986\u001b[0m \u001b[38;5;129m@y\u001b[39m\u001b[38;5;241m.\u001b[39msetter\n\u001b[0;32m    987\u001b[0m \u001b[38;5;28;01mdef\u001b[39;00m \u001b[38;5;21my\u001b[39m(\u001b[38;5;28mself\u001b[39m, y: Optional[Tensor]):\n",
      "\u001b[1;31mKeyboardInterrupt\u001b[0m: "
     ]
    }
   ],
   "source": [
    "dropout_rate = 0.3\n",
    "weight_decay_value = 5e-4\n",
    "lr_value = 0.0005\n",
    "\n",
    "# model = GCN(num_input=data.x.shape[1], num_hidden1=128, num_hidden2=64, num_out=data.y.max().item() + 1, dropout=dropout_rate).to(device)\n",
    "model = GraphSAGE(num_input=data.x.shape[1], num_hidden1=50, num_hidden2=50, num_out=data.y.max().item() + 1, dropout=dropout_rate).to(device)\n",
    "opt = torch.optim.Adam(model.parameters(), lr=lr_value, weight_decay=weight_decay_value)\n",
    "\n",
    "losses = []\n",
    "train_accuracies = []\n",
    "val_accuracies = []\n",
    "test_accuracies = []\n",
    "\n",
    "best_val_acc = 0\n",
    "best_test_acc = 0\n",
    "epochs_no_improve = 0\n",
    "patience = 1000\n",
    "\n",
    "for epoch in trange(2000):\n",
    "    # Step1: Training\n",
    "    model.train()\n",
    "    opt.zero_grad()\n",
    "\n",
    "    train_out = model(data)\n",
    "    loss = F.cross_entropy(train_out[data.train_mask], data.y[data.train_mask])\n",
    "    loss.backward()\n",
    "    opt.step()\n",
    "\n",
    "    train_acc = compute_accuracy(train_out, data.y, data.train_mask)\n",
    "    \n",
    "    # Step 2: Evaluation\n",
    "    model.eval()\n",
    "    out = model(data)\n",
    "    \n",
    "    val_acc = compute_accuracy(out, data.y, data.val_mask)\n",
    "    test_acc = compute_accuracy(out, data.y, data.test_mask)\n",
    "\n",
    "    \n",
    "    # Early stopping logic\n",
    "    if val_acc > best_val_acc:\n",
    "        best_val_acc = val_acc\n",
    "        best_test_acc = test_acc\n",
    "        epochs_no_improve = 0\n",
    "    else:\n",
    "        epochs_no_improve += 1\n",
    "\n",
    "    if epochs_no_improve >= patience:\n",
    "        print(f\"Early stopping at epoch {epoch}\")\n",
    "        break\n",
    "\n",
    "    \n",
    "    # Logging\n",
    "    losses.append(loss.item())\n",
    "    train_accuracies.append(train_acc)\n",
    "    val_accuracies.append(val_acc)\n",
    "    test_accuracies.append(test_acc)\n",
    "\n",
    "    if epoch % 100 == 0:\n",
    "        print(f\"Epoch {epoch+1}, Loss: {loss.item():.4f}, Train Acc: {train_acc:.4f}, Val Acc: {val_acc:.4f}, Test Acc: {test_acc:.4f}\")\n",
    "\n",
    "print(f\"Best validation accuracy: {best_val_acc:.4f}\")\n",
    "print(f\"Test accuracy at best val: {best_test_acc:.4f}\")"
   ]
  },
  {
   "cell_type": "markdown",
   "metadata": {},
   "source": [
    "## Task:\n",
    "Evaluate the model's performance using metrics appropriate for classification."
   ]
  },
  {
   "cell_type": "code",
   "execution_count": 56,
   "metadata": {},
   "outputs": [
    {
     "name": "stdout",
     "output_type": "stream",
     "text": [
      "Number of parameters GCN:  1391202\n"
     ]
    }
   ],
   "source": [
    "def num_params(gcn_model):\n",
    "    return sum(p.numel() for p in gcn_model.parameters() if p.requires_grad)\n",
    "\n",
    "print('Number of parameters GCN: ', num_params(model))"
   ]
  },
  {
   "cell_type": "code",
   "execution_count": 37,
   "metadata": {},
   "outputs": [
    {
     "data": {
      "image/png": "[encoded data removed]",
      "text/plain": [
       "<Figure size 1000x600 with 1 Axes>"
      ]
     },
     "metadata": {},
     "output_type": "display_data"
    },
    {
     "data": {
      "image/png": "[encoded data removed]",
      "text/plain": [
       "<Figure size 1000x600 with 1 Axes>"
      ]
     },
     "metadata": {},
     "output_type": "display_data"
    }
   ],
   "source": [
    "# Plot the loss\n",
    "plt.figure(figsize=(10, 6))\n",
    "plt.plot(losses)\n",
    "plt.title('Training Loss over Epochs')\n",
    "plt.xlabel('Epoch')\n",
    "plt.ylabel('Loss')\n",
    "plt.grid(True)\n",
    "plt.show()\n",
    "\n",
    "# Plot the accuracies\n",
    "plt.figure(figsize=(10, 6))\n",
    "plt.plot(train_accuracies, label='Train Accuracy')\n",
    "plt.plot(val_accuracies, label='Validation Accuracy')\n",
    "plt.plot(test_accuracies, label='Test Accuracy')\n",
    "plt.title('Accuracies over Epochs')\n",
    "plt.xlabel('Epoch')\n",
    "plt.ylabel('Accuracy')\n",
    "plt.legend()\n",
    "plt.grid(True)\n",
    "plt.show()"
   ]
  },
  {
   "cell_type": "markdown",
   "metadata": {},
   "source": [
    "## Task:\n",
    "Use Graph Attention Networks to perform GNN"
   ]
  },
  {
   "cell_type": "code",
   "execution_count": 108,
   "metadata": {},
   "outputs": [],
   "source": [
    "class GAT(torch.nn.Module):\n",
    "    def __init__(self, in_channels, hidden_channels, out_channels, linear_channel, heads, dropout):\n",
    "        super().__init__()\n",
    "        self.conv1 = GATConv(in_channels, hidden_channels, heads=heads)\n",
    "        # Apply multi-head attention in the first layer, then average the results.\n",
    "        # The output dimension of self.conv1 will be hidden_channels * heads.\n",
    "        # The second layer will take this as input.\n",
    "        self.conv2 = GATConv(hidden_channels * heads, linear_channel, heads=1)\n",
    "        # The second layer can use a single head for final classification\n",
    "        self.lin = Linear(linear_channel, out_channels)\n",
    "        self.dropout = nn.Dropout(p=dropout)\n",
    "\n",
    "    def forward(self, data):\n",
    "        x, edge_index = data.x, data.edge_index\n",
    "        x = self.dropout(F.elu(self.conv1(x, edge_index))) # Use ELU activation\n",
    "        x = self.dropout(F.elu(self.conv2(x, edge_index)))\n",
    "\n",
    "        x = self.lin(x)\n",
    "        return x"
   ]
  },
  {
   "cell_type": "code",
   "execution_count": 110,
   "metadata": {},
   "outputs": [],
   "source": [
    "dropout_rate_gat = 0.3\n",
    "hidden_channels_gat = 8 \n",
    "heads_gat = 6\n",
    "linear_hiden_value = 32\n",
    "weight_decay_value = 5e-4\n",
    "lr_value = 0.0005\n",
    "\n",
    "gat_model = GAT(\n",
    "    in_channels=data.x.shape[1], hidden_channels=hidden_channels_gat, out_channels=data.y.max().item() + 1, \n",
    "    linear_channel=linear_hiden_value, heads=heads_gat, dropout=dropout_rate_gat\n",
    ").to(device)\n",
    "gat_opt = torch.optim.Adam(gat_model.parameters(), lr=lr_value, weight_decay=weight_decay_value)"
   ]
  },
  {
   "cell_type": "code",
   "execution_count": 112,
   "metadata": {},
   "outputs": [
    {
     "name": "stderr",
     "output_type": "stream",
     "text": [
      "  0%|                                                                                 | 2/2000 [00:00<08:23,  3.97it/s]"
     ]
    },
    {
     "name": "stdout",
     "output_type": "stream",
     "text": [
      "Epoch 1, Loss: 0.7479, Train Acc: 0.2130, Val Acc: 0.2019, Test Acc: 0.2057\n"
     ]
    },
    {
     "name": "stderr",
     "output_type": "stream",
     "text": [
      "  5%|████                                                                           | 102/2000 [00:15<03:36,  8.76it/s]"
     ]
    },
    {
     "name": "stdout",
     "output_type": "stream",
     "text": [
      "Epoch 101, Loss: 0.5166, Train Acc: 0.7870, Val Acc: 0.7981, Test Acc: 0.7943\n"
     ]
    },
    {
     "name": "stderr",
     "output_type": "stream",
     "text": [
      " 10%|███████▉                                                                       | 202/2000 [00:31<03:20,  8.96it/s]"
     ]
    },
    {
     "name": "stdout",
     "output_type": "stream",
     "text": [
      "Epoch 201, Loss: 0.5065, Train Acc: 0.7870, Val Acc: 0.7981, Test Acc: 0.7943\n"
     ]
    },
    {
     "name": "stderr",
     "output_type": "stream",
     "text": [
      " 15%|███████████▉                                                                   | 302/2000 [00:43<03:19,  8.50it/s]"
     ]
    },
    {
     "name": "stdout",
     "output_type": "stream",
     "text": [
      "Epoch 301, Loss: 0.4737, Train Acc: 0.7870, Val Acc: 0.7981, Test Acc: 0.7943\n"
     ]
    },
    {
     "name": "stderr",
     "output_type": "stream",
     "text": [
      " 20%|███████████████▉                                                               | 402/2000 [00:55<03:03,  8.69it/s]"
     ]
    },
    {
     "name": "stdout",
     "output_type": "stream",
     "text": [
      "Epoch 401, Loss: 0.3674, Train Acc: 0.8522, Val Acc: 0.8565, Test Acc: 0.8512\n"
     ]
    },
    {
     "name": "stderr",
     "output_type": "stream",
     "text": [
      " 25%|███████████████████▊                                                           | 502/2000 [01:09<03:34,  6.99it/s]"
     ]
    },
    {
     "name": "stdout",
     "output_type": "stream",
     "text": [
      "Epoch 501, Loss: 0.3300, Train Acc: 0.8726, Val Acc: 0.8666, Test Acc: 0.8653\n"
     ]
    },
    {
     "name": "stderr",
     "output_type": "stream",
     "text": [
      " 30%|███████████████████████▊                                                       | 602/2000 [01:22<02:45,  8.44it/s]"
     ]
    },
    {
     "name": "stdout",
     "output_type": "stream",
     "text": [
      "Epoch 601, Loss: 0.3027, Train Acc: 0.8862, Val Acc: 0.8695, Test Acc: 0.8725\n"
     ]
    },
    {
     "name": "stderr",
     "output_type": "stream",
     "text": [
      " 35%|███████████████████████████▋                                                   | 701/2000 [01:42<11:10,  1.94it/s]"
     ]
    },
    {
     "name": "stdout",
     "output_type": "stream",
     "text": [
      "Epoch 701, Loss: 0.2703, Train Acc: 0.9032, Val Acc: 0.8777, Test Acc: 0.8789\n"
     ]
    },
    {
     "name": "stderr",
     "output_type": "stream",
     "text": [
      " 40%|███████████████████████████████▋                                               | 802/2000 [01:59<02:17,  8.73it/s]"
     ]
    },
    {
     "name": "stdout",
     "output_type": "stream",
     "text": [
      "Epoch 801, Loss: 0.2379, Train Acc: 0.9194, Val Acc: 0.8801, Test Acc: 0.8861\n"
     ]
    },
    {
     "name": "stderr",
     "output_type": "stream",
     "text": [
      " 45%|███████████████████████████████████▋                                           | 902/2000 [02:19<02:57,  6.19it/s]"
     ]
    },
    {
     "name": "stdout",
     "output_type": "stream",
     "text": [
      "Epoch 901, Loss: 0.2153, Train Acc: 0.9297, Val Acc: 0.8837, Test Acc: 0.8890\n"
     ]
    },
    {
     "name": "stderr",
     "output_type": "stream",
     "text": [
      " 50%|███████████████████████████████████████                                       | 1002/2000 [02:31<01:50,  9.04it/s]"
     ]
    },
    {
     "name": "stdout",
     "output_type": "stream",
     "text": [
      "Epoch 1001, Loss: 0.1978, Train Acc: 0.9363, Val Acc: 0.8830, Test Acc: 0.8893\n"
     ]
    },
    {
     "name": "stderr",
     "output_type": "stream",
     "text": [
      " 55%|██████████████████████████████████████████▉                                   | 1102/2000 [02:50<02:41,  5.56it/s]"
     ]
    },
    {
     "name": "stdout",
     "output_type": "stream",
     "text": [
      "Epoch 1101, Loss: 0.1856, Train Acc: 0.9414, Val Acc: 0.8832, Test Acc: 0.8877\n"
     ]
    },
    {
     "name": "stderr",
     "output_type": "stream",
     "text": [
      " 60%|██████████████████████████████████████████████▉                               | 1202/2000 [03:09<01:33,  8.54it/s]"
     ]
    },
    {
     "name": "stdout",
     "output_type": "stream",
     "text": [
      "Epoch 1201, Loss: 0.1740, Train Acc: 0.9475, Val Acc: 0.8837, Test Acc: 0.8879\n"
     ]
    },
    {
     "name": "stderr",
     "output_type": "stream",
     "text": [
      " 65%|██████████████████████████████████████████████████▊                           | 1302/2000 [03:26<02:35,  4.50it/s]"
     ]
    },
    {
     "name": "stdout",
     "output_type": "stream",
     "text": [
      "Epoch 1301, Loss: 0.1629, Train Acc: 0.9513, Val Acc: 0.8861, Test Acc: 0.8894\n"
     ]
    },
    {
     "name": "stderr",
     "output_type": "stream",
     "text": [
      " 70%|██████████████████████████████████████████████████████▋                       | 1402/2000 [03:46<01:07,  8.86it/s]"
     ]
    },
    {
     "name": "stdout",
     "output_type": "stream",
     "text": [
      "Epoch 1401, Loss: 0.1530, Train Acc: 0.9542, Val Acc: 0.8846, Test Acc: 0.8905\n"
     ]
    },
    {
     "name": "stderr",
     "output_type": "stream",
     "text": [
      " 75%|██████████████████████████████████████████████████████████▌                   | 1502/2000 [03:59<00:55,  8.90it/s]"
     ]
    },
    {
     "name": "stdout",
     "output_type": "stream",
     "text": [
      "Epoch 1501, Loss: 0.1443, Train Acc: 0.9563, Val Acc: 0.8863, Test Acc: 0.8908\n"
     ]
    },
    {
     "name": "stderr",
     "output_type": "stream",
     "text": [
      " 80%|██████████████████████████████████████████████████████████████▍               | 1602/2000 [04:11<00:46,  8.55it/s]"
     ]
    },
    {
     "name": "stdout",
     "output_type": "stream",
     "text": [
      "Epoch 1601, Loss: 0.1390, Train Acc: 0.9569, Val Acc: 0.8862, Test Acc: 0.8908\n"
     ]
    },
    {
     "name": "stderr",
     "output_type": "stream",
     "text": [
      " 85%|██████████████████████████████████████████████████████████████████▍           | 1702/2000 [04:22<00:38,  7.82it/s]"
     ]
    },
    {
     "name": "stdout",
     "output_type": "stream",
     "text": [
      "Epoch 1701, Loss: 0.1333, Train Acc: 0.9590, Val Acc: 0.8857, Test Acc: 0.8891\n"
     ]
    },
    {
     "name": "stderr",
     "output_type": "stream",
     "text": [
      " 90%|██████████████████████████████████████████████████████████████████████▎       | 1802/2000 [04:34<00:21,  9.06it/s]"
     ]
    },
    {
     "name": "stdout",
     "output_type": "stream",
     "text": [
      "Epoch 1801, Loss: 0.1299, Train Acc: 0.9618, Val Acc: 0.8849, Test Acc: 0.8907\n"
     ]
    },
    {
     "name": "stderr",
     "output_type": "stream",
     "text": [
      " 95%|██████████████████████████████████████████████████████████████████████████▏   | 1902/2000 [04:51<00:11,  8.40it/s]"
     ]
    },
    {
     "name": "stdout",
     "output_type": "stream",
     "text": [
      "Epoch 1901, Loss: 0.1253, Train Acc: 0.9634, Val Acc: 0.8855, Test Acc: 0.8902\n"
     ]
    },
    {
     "name": "stderr",
     "output_type": "stream",
     "text": [
      "100%|██████████████████████████████████████████████████████████████████████████████| 2000/2000 [05:07<00:00,  6.51it/s]"
     ]
    },
    {
     "name": "stdout",
     "output_type": "stream",
     "text": [
      "Best validation accuracy: 0.8885\n",
      "Test accuracy at best val: 0.8918\n"
     ]
    },
    {
     "name": "stderr",
     "output_type": "stream",
     "text": [
      "\n"
     ]
    }
   ],
   "source": [
    "losses_gat = []\n",
    "train_accuracies_gat = []\n",
    "val_accuracies_gat = []\n",
    "test_accuracies_gat = []\n",
    "\n",
    "best_val_acc_gat = 0\n",
    "best_test_acc_gat = 0\n",
    "epochs_no_improve_gat = 0\n",
    "patience = 1000\n",
    "\n",
    "for epoch in trange(2000):\n",
    "    # Step1: Training\n",
    "    gat_model.train()\n",
    "    gat_opt.zero_grad()\n",
    "\n",
    "    gat_train_out = gat_model(data)\n",
    "    gat_loss = F.cross_entropy(gat_train_out[data.train_mask], data.y[data.train_mask])\n",
    "    gat_loss.backward()\n",
    "    gat_opt.step()\n",
    "\n",
    "    gat_model.eval()\n",
    "    gat_out = gat_model(data)\n",
    "\n",
    "    train_acc_gat = compute_accuracy(gat_out, data.y, data.train_mask)\n",
    "    val_acc_gat = compute_accuracy(gat_out, data.y, data.val_mask)\n",
    "    test_acc_gat = compute_accuracy(gat_out, data.y, data.test_mask)\n",
    "\n",
    "    if val_acc_gat > best_val_acc_gat:\n",
    "        best_val_acc_gat = val_acc_gat\n",
    "        best_test_acc_gat = test_acc_gat\n",
    "        epochs_no_improve_gat = 0\n",
    "    else:\n",
    "        epochs_no_improve_gat += 1\n",
    "\n",
    "    if epochs_no_improve_gat >= patience:\n",
    "        print(f\"Early stopping at epoch {epoch}\")\n",
    "        break\n",
    "\n",
    "     # Logging\n",
    "    losses_trans.append(gat_loss.item())\n",
    "    train_accuracies_gat.append(train_acc_gat)\n",
    "    val_accuracies_gat.append(val_acc_gat)\n",
    "    test_accuracies_gat.append(test_acc_gat)\n",
    "\n",
    "    if epoch % 100 == 0:\n",
    "        print(f\"Epoch {epoch+1}, Loss: {gat_loss.item():.4f}, Train Acc: {train_acc_gat:.4f}, Val Acc: {val_acc_gat:.4f}, Test Acc: {test_acc_gat:.4f}\")\n",
    "\n",
    "print(f\"Best validation accuracy: {best_val_acc_gat:.4f}\")\n",
    "print(f\"Test accuracy at best val: {best_test_acc_gat:.4f}\")"
   ]
  },
  {
   "cell_type": "code",
   "execution_count": 114,
   "metadata": {},
   "outputs": [
    {
     "data": {
      "image/png": "[encoded data removed]",
      "text/plain": [
       "<Figure size 1000x600 with 1 Axes>"
      ]
     },
     "metadata": {},
     "output_type": "display_data"
    },
    {
     "data": {
      "image/png": "[encoded data removed]",
      "text/plain": [
       "<Figure size 1000x600 with 1 Axes>"
      ]
     },
     "metadata": {},
     "output_type": "display_data"
    }
   ],
   "source": [
    "# Plot the loss (GAT)\n",
    "plt.figure(figsize=(10, 6))\n",
    "plt.plot(losses_gat)\n",
    "plt.title('Training Loss over Epochs (GAT)')\n",
    "plt.xlabel('Epoch')\n",
    "plt.ylabel('Loss')\n",
    "plt.grid(True)\n",
    "plt.show()\n",
    "\n",
    "# Plot the accuracies (GAT)\n",
    "plt.figure(figsize=(10, 6))\n",
    "plt.plot(train_accuracies_gat, label='Train Accuracy')\n",
    "plt.plot(val_accuracies_gat, label='Validation Accuracy')\n",
    "plt.plot(test_accuracies_gat, label='Test Accuracy')\n",
    "plt.title('Accuracies over Epochs (GAT)')\n",
    "plt.xlabel('Epoch')\n",
    "plt.ylabel('Accuracy')\n",
    "plt.legend()\n",
    "plt.grid(True)\n",
    "plt.show()"
   ]
  },
  {
   "cell_type": "markdown",
   "metadata": {},
   "source": [
    "## Task:\n",
    "Use Graph Transformers to perform GNN"
   ]
  },
  {
   "cell_type": "code",
   "execution_count": 150,
   "metadata": {},
   "outputs": [],
   "source": [
    "class GraphTransformerNoPooling(torch.nn.Module):\n",
    "    def __init__(self, in_channels, hidden_channels, out_channels, heads, dropout):\n",
    "        super().__init__()\n",
    "        self.conv1 = TransformerConv(in_channels, hidden_channels, heads=heads)\n",
    "        self.conv2 = TransformerConv(hidden_channels * heads, hidden_channels, heads=heads)\n",
    "        self.conv3 = TransformerConv(hidden_channels * heads, hidden_channels, heads=heads)\n",
    "        self.lin = Linear(hidden_channels * heads, out_channels)\n",
    "\n",
    "        self.dropout = nn.Dropout(p=dropout)\n",
    "\n",
    "    def forward(self, data):\n",
    "        x, edge_index = data.x, data.edge_index\n",
    "        \n",
    "        x = self.conv1(x, edge_index)\n",
    "        x = self.dropout(F.elu(x))\n",
    "\n",
    "        x = self.conv2(x, edge_index)\n",
    "        x = self.dropout(F.elu(x))\n",
    "\n",
    "        x = self.conv3(x, edge_index)\n",
    "        # Optional: ELU before final linear layer\n",
    "        x = self.dropout(F.elu(x))\n",
    "\n",
    "        x = self.lin(x)\n",
    "        return x"
   ]
  },
  {
   "cell_type": "code",
   "execution_count": 152,
   "metadata": {},
   "outputs": [],
   "source": [
    "dropout_rate_trans_np = 0.3\n",
    "weight_decay_value = 5e-4\n",
    "lr_value = 0.0001\n",
    "hidden_channels_trans_np = 8\n",
    "heads_trans_np = 8\n",
    "\n",
    "graph_transformer_model = GraphTransformerNoPooling(\n",
    "    in_channels=data.x.shape[1], hidden_channels=hidden_channels_trans_np, out_channels=data.y.max().item() + 1, \n",
    "    heads=heads_trans_np, dropout=dropout_rate_trans_np\n",
    ").to(device)\n",
    "trans_opt = torch.optim.Adam(graph_transformer_model.parameters(), lr=lr_value, weight_decay=weight_decay_value)"
   ]
  },
  {
   "cell_type": "code",
   "execution_count": 154,
   "metadata": {},
   "outputs": [
    {
     "name": "stderr",
     "output_type": "stream",
     "text": [
      "  0%|                                                                                 | 1/1500 [00:01<26:10,  1.05s/it]"
     ]
    },
    {
     "name": "stdout",
     "output_type": "stream",
     "text": [
      "Epoch 1, Loss: 0.6967, Train Acc: 0.2157, Val Acc: 0.2044, Test Acc: 0.2066\n"
     ]
    },
    {
     "name": "stderr",
     "output_type": "stream",
     "text": [
      "  7%|█████▎                                                                         | 101/1500 [00:51<11:21,  2.05it/s]"
     ]
    },
    {
     "name": "stdout",
     "output_type": "stream",
     "text": [
      "Epoch 101, Loss: 0.5161, Train Acc: 0.7870, Val Acc: 0.7981, Test Acc: 0.7943\n"
     ]
    },
    {
     "name": "stderr",
     "output_type": "stream",
     "text": [
      " 13%|██████████▌                                                                    | 201/1500 [01:40<10:25,  2.08it/s]"
     ]
    },
    {
     "name": "stdout",
     "output_type": "stream",
     "text": [
      "Epoch 201, Loss: 0.5094, Train Acc: 0.7870, Val Acc: 0.7981, Test Acc: 0.7943\n"
     ]
    },
    {
     "name": "stderr",
     "output_type": "stream",
     "text": [
      " 20%|███████████████▊                                                               | 301/1500 [02:29<09:39,  2.07it/s]"
     ]
    },
    {
     "name": "stdout",
     "output_type": "stream",
     "text": [
      "Epoch 301, Loss: 0.4892, Train Acc: 0.7870, Val Acc: 0.7981, Test Acc: 0.7943\n"
     ]
    },
    {
     "name": "stderr",
     "output_type": "stream",
     "text": [
      " 27%|█████████████████████                                                          | 401/1500 [03:18<08:50,  2.07it/s]"
     ]
    },
    {
     "name": "stdout",
     "output_type": "stream",
     "text": [
      "Epoch 401, Loss: 0.3597, Train Acc: 0.8563, Val Acc: 0.8509, Test Acc: 0.8495\n"
     ]
    },
    {
     "name": "stderr",
     "output_type": "stream",
     "text": [
      " 33%|██████████████████████████▍                                                    | 501/1500 [04:07<08:04,  2.06it/s]"
     ]
    },
    {
     "name": "stdout",
     "output_type": "stream",
     "text": [
      "Epoch 501, Loss: 0.2589, Train Acc: 0.9002, Val Acc: 0.8858, Test Acc: 0.8825\n"
     ]
    },
    {
     "name": "stderr",
     "output_type": "stream",
     "text": [
      " 40%|███████████████████████████████▋                                               | 601/1500 [04:56<07:18,  2.05it/s]"
     ]
    },
    {
     "name": "stdout",
     "output_type": "stream",
     "text": [
      "Epoch 601, Loss: 0.1862, Train Acc: 0.9342, Val Acc: 0.9015, Test Acc: 0.9012\n"
     ]
    },
    {
     "name": "stderr",
     "output_type": "stream",
     "text": [
      " 47%|████████████████████████████████████▉                                          | 701/1500 [05:45<06:27,  2.06it/s]"
     ]
    },
    {
     "name": "stdout",
     "output_type": "stream",
     "text": [
      "Epoch 701, Loss: 0.1129, Train Acc: 0.9732, Val Acc: 0.9196, Test Acc: 0.9207\n"
     ]
    },
    {
     "name": "stderr",
     "output_type": "stream",
     "text": [
      " 53%|██████████████████████████████████████████▏                                    | 801/1500 [06:34<05:39,  2.06it/s]"
     ]
    },
    {
     "name": "stdout",
     "output_type": "stream",
     "text": [
      "Epoch 801, Loss: 0.0640, Train Acc: 0.9953, Val Acc: 0.9292, Test Acc: 0.9304\n"
     ]
    },
    {
     "name": "stderr",
     "output_type": "stream",
     "text": [
      " 60%|███████████████████████████████████████████████▍                               | 901/1500 [07:23<04:48,  2.07it/s]"
     ]
    },
    {
     "name": "stdout",
     "output_type": "stream",
     "text": [
      "Epoch 901, Loss: 0.0415, Train Acc: 0.9997, Val Acc: 0.9345, Test Acc: 0.9351\n"
     ]
    },
    {
     "name": "stderr",
     "output_type": "stream",
     "text": [
      " 67%|████████████████████████████████████████████████████                          | 1001/1500 [08:12<04:02,  2.06it/s]"
     ]
    },
    {
     "name": "stdout",
     "output_type": "stream",
     "text": [
      "Epoch 1001, Loss: 0.0307, Train Acc: 1.0000, Val Acc: 0.9353, Test Acc: 0.9371\n"
     ]
    },
    {
     "name": "stderr",
     "output_type": "stream",
     "text": [
      " 73%|█████████████████████████████████████████████████████████▎                    | 1101/1500 [09:01<03:14,  2.05it/s]"
     ]
    },
    {
     "name": "stdout",
     "output_type": "stream",
     "text": [
      "Epoch 1101, Loss: 0.0247, Train Acc: 1.0000, Val Acc: 0.9355, Test Acc: 0.9365\n"
     ]
    },
    {
     "name": "stderr",
     "output_type": "stream",
     "text": [
      " 80%|██████████████████████████████████████████████████████████████▍               | 1201/1500 [09:50<02:25,  2.06it/s]"
     ]
    },
    {
     "name": "stdout",
     "output_type": "stream",
     "text": [
      "Epoch 1201, Loss: 0.0205, Train Acc: 1.0000, Val Acc: 0.9366, Test Acc: 0.9366\n"
     ]
    },
    {
     "name": "stderr",
     "output_type": "stream",
     "text": [
      " 87%|███████████████████████████████████████████████████████████████████▋          | 1301/1500 [10:42<01:36,  2.06it/s]"
     ]
    },
    {
     "name": "stdout",
     "output_type": "stream",
     "text": [
      "Epoch 1301, Loss: 0.0177, Train Acc: 1.0000, Val Acc: 0.9374, Test Acc: 0.9386\n"
     ]
    },
    {
     "name": "stderr",
     "output_type": "stream",
     "text": [
      " 93%|████████████████████████████████████████████████████████████████████████▊     | 1401/1500 [11:31<00:47,  2.07it/s]"
     ]
    },
    {
     "name": "stdout",
     "output_type": "stream",
     "text": [
      "Epoch 1401, Loss: 0.0158, Train Acc: 1.0000, Val Acc: 0.9373, Test Acc: 0.9387\n"
     ]
    },
    {
     "name": "stderr",
     "output_type": "stream",
     "text": [
      "100%|██████████████████████████████████████████████████████████████████████████████| 1500/1500 [12:21<00:00,  2.02it/s]"
     ]
    },
    {
     "name": "stdout",
     "output_type": "stream",
     "text": [
      "Best validation accuracy: 0.9385\n",
      "Test accuracy at best val: 0.9397\n"
     ]
    },
    {
     "name": "stderr",
     "output_type": "stream",
     "text": [
      "\n"
     ]
    }
   ],
   "source": [
    "losses_trans_np = []\n",
    "train_accuracies_trans_np = []\n",
    "val_accuracies_trans_np = []\n",
    "test_accuracies_trans_np = []\n",
    "\n",
    "best_val_acc_trans = 0\n",
    "best_test_acc_trans = 0\n",
    "epochs_no_improve_trans = 0\n",
    "patience = 1000\n",
    "\n",
    "for epoch in trange(1500):\n",
    "    # Step1: Training\n",
    "    graph_transformer_model.train()\n",
    "    trans_opt.zero_grad()\n",
    "\n",
    "    trans_train_out = graph_transformer_model(data)\n",
    "    trans_loss = F.cross_entropy(trans_train_out[data.train_mask], data.y[data.train_mask])\n",
    "    trans_loss.backward()\n",
    "    trans_opt.step()\n",
    "\n",
    "    graph_transformer_model.eval()\n",
    "    trans_out = graph_transformer_model(data)\n",
    "\n",
    "    train_acc_trans = compute_accuracy(trans_out, data.y, data.train_mask)\n",
    "    val_acc_trans = compute_accuracy(trans_out, data.y, data.val_mask)\n",
    "    test_acc_trans = compute_accuracy(trans_out, data.y, data.test_mask)\n",
    "\n",
    "    if val_acc_trans > best_val_acc_trans:\n",
    "        best_val_acc_trans = val_acc_trans\n",
    "        best_test_acc_trans = test_acc_trans\n",
    "        epochs_no_improve_trans = 0\n",
    "    else:\n",
    "        epochs_no_improve_trans += 1\n",
    "\n",
    "    if epochs_no_improve_trans >= patience:\n",
    "        print(f\"Early stopping at epoch {epoch}\")\n",
    "        break\n",
    "\n",
    "     # Logging\n",
    "    losses_trans_np.append(trans_loss.item())\n",
    "    train_accuracies_trans_np.append(train_acc_trans)\n",
    "    val_accuracies_trans_np.append(val_acc_trans)\n",
    "    test_accuracies_trans_np.append(test_acc_trans)\n",
    "\n",
    "    if epoch % 100 == 0:\n",
    "        print(f\"Epoch {epoch+1}, Loss: {trans_loss.item():.4f}, Train Acc: {train_acc_trans:.4f}, Val Acc: {val_acc_trans:.4f}, Test Acc: {test_acc_trans:.4f}\")\n",
    "\n",
    "print(f\"Best validation accuracy: {best_val_acc_trans:.4f}\")\n",
    "print(f\"Test accuracy at best val: {best_test_acc_trans:.4f}\")"
   ]
  },
  {
   "cell_type": "code",
   "execution_count": 155,
   "metadata": {},
   "outputs": [
    {
     "name": "stdout",
     "output_type": "stream",
     "text": [
      "\n",
      "Graph Transformer (No Pooling) Architecture:\n",
      "GraphTransformerNoPooling(\n",
      "  (conv1): TransformerConv(13860, 8, heads=8)\n",
      "  (conv2): TransformerConv(64, 8, heads=8)\n",
      "  (conv3): TransformerConv(64, 8, heads=8)\n",
      "  (lin): Linear(in_features=64, out_features=2, bias=True)\n",
      "  (dropout): Dropout(p=0.3, inplace=False)\n",
      ")\n",
      "Number of parameters Graph Transformer (No Pooling):  3581826\n"
     ]
    }
   ],
   "source": [
    "print(\"\\nGraph Transformer (No Pooling) Architecture:\")\n",
    "print(graph_transformer_model)\n",
    "print('Number of parameters Graph Transformer (No Pooling): ', num_params(graph_transformer_model))"
   ]
  },
  {
   "cell_type": "code",
   "execution_count": 156,
   "metadata": {},
   "outputs": [
    {
     "data": {
      "image/png": "[encoded data removed]",
      "text/plain": [
       "<Figure size 1000x600 with 1 Axes>"
      ]
     },
     "metadata": {},
     "output_type": "display_data"
    },
    {
     "data": {
      "image/png": "[encoded data removed]",
      "text/plain": [
       "<Figure size 1000x600 with 1 Axes>"
      ]
     },
     "metadata": {},
     "output_type": "display_data"
    }
   ],
   "source": [
    "# Plot the loss (Graph Transformer No Pooling)\n",
    "plt.figure(figsize=(10, 6))\n",
    "plt.plot(losses_trans_np)\n",
    "plt.title('Training Loss over Epochs (Graph Transformer No Pooling)')\n",
    "plt.xlabel('Epoch')\n",
    "plt.ylabel('Loss')\n",
    "plt.grid(True)\n",
    "plt.show()\n",
    "\n",
    "# Plot the accuracies (Graph Transformer No Pooling)\n",
    "plt.figure(figsize=(10, 6))\n",
    "plt.plot(train_accuracies_trans_np, label='Train Accuracy')\n",
    "plt.plot(val_accuracies_trans_np, label='Validation Accuracy')\n",
    "plt.plot(test_accuracies_trans_np, label='Test Accuracy')\n",
    "plt.title('Accuracies over Epochs (Graph Transformer No Pooling)')\n",
    "plt.xlabel('Epoch')\n",
    "plt.ylabel('Accuracy')\n",
    "plt.legend()\n",
    "plt.grid(True)\n",
    "plt.show()"
   ]
  },
  {
   "cell_type": "code",
   "execution_count": null,
   "metadata": {},
   "outputs": [],
   "source": []
  }
 ],
 "metadata": {
  "colab": {
   "provenance": []
  },
  "kernelspec": {
   "display_name": "Python 3 (ipykernel)",
   "language": "python",
   "name": "python3"
  },
  "language_info": {
   "codemirror_mode": {
    "name": "ipython",
    "version": 3
   },
   "file_extension": ".py",
   "mimetype": "text/x-python",
   "name": "python",
   "nbconvert_exporter": "python",
   "pygments_lexer": "ipython3",
   "version": "3.11.7"
  }
 },
 "nbformat": 4,
 "nbformat_minor": 4
}
